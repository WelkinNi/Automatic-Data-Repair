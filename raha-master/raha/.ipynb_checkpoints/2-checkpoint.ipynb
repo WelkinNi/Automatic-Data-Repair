{
 "cells": [
  {
   "cell_type": "markdown",
   "metadata": {},
   "source": [
    "# End-to-End Data Cleaning Pipeline with Raha and Baran\n",
    "We build an end-to-end data cleaning pipeline with our configuration-free data error detection and correction systems, Raha and Baran."
   ]
  },
  {
   "cell_type": "markdown",
   "metadata": {},
   "source": [
    "## Error Detection with Raha"
   ]
  },
  {
   "cell_type": "markdown",
   "metadata": {},
   "source": [
    "### 1. Instantiating the Detection Class\n",
    "We first load and the `raha` module and instantiate the `Detection` class."
   ]
  },
  {
   "cell_type": "code",
   "execution_count": 1,
   "metadata": {},
   "outputs": [],
   "source": [
    "import raha\n",
    "app_1 = raha.Detection()\n",
    "\n",
    "# How many tuples would you label?\n",
    "app_1.LABELING_BUDGET = 20\n",
    "\n",
    "# Do you want to filter out irrelevant error detector startegies?\n",
    "app_1.VERBOSE = True\n",
    "app_1.STRATEGY_FILTERING = True\n",
    "app_1.HISTORICAL_DATASETS = [\n",
    "    {\n",
    "        \"name\": \"hospital\",\n",
    "        \"path\": \"/media/mohammad/C20E45C80E45B5E7/Projects/raha/datasets/hospital/dirty.csv\",\n",
    "        \"clean_path\": \"/media/mohammad/C20E45C80E45B5E7/Projects/raha/datasets/hospital/clean.csv\"\n",
    "    },\n",
    "    {\n",
    "        \"name\": \"beers\",\n",
    "        \"path\": \"/media/mohammad/C20E45C80E45B5E7/Projects/raha/datasets/beers/dirty.csv\",\n",
    "        \"clean_path\": \"/media/mohammad/C20E45C80E45B5E7/Projects/raha/datasets/beers/clean.csv\"\n",
    "    }\n",
    "]"
   ]
  },
  {
   "cell_type": "markdown",
   "metadata": {},
   "source": [
    "### 2. Instantiating the Dataset\n",
    "We next load and instantiate the dataset object."
   ]
  },
  {
   "cell_type": "code",
   "execution_count": 3,
   "metadata": {},
   "outputs": [
    {
     "data": {
      "text/html": [
       "<div>\n",
       "<style scoped>\n",
       "    .dataframe tbody tr th:only-of-type {\n",
       "        vertical-align: middle;\n",
       "    }\n",
       "\n",
       "    .dataframe tbody tr th {\n",
       "        vertical-align: top;\n",
       "    }\n",
       "\n",
       "    .dataframe thead th {\n",
       "        text-align: right;\n",
       "    }\n",
       "</style>\n",
       "<table border=\"1\" class=\"dataframe\">\n",
       "  <thead>\n",
       "    <tr style=\"text-align: right;\">\n",
       "      <th></th>\n",
       "      <th>tuple_id</th>\n",
       "      <th>src</th>\n",
       "      <th>flight</th>\n",
       "      <th>sched_dep_time</th>\n",
       "      <th>act_dep_time</th>\n",
       "      <th>sched_arr_time</th>\n",
       "      <th>act_arr_time</th>\n",
       "    </tr>\n",
       "  </thead>\n",
       "  <tbody>\n",
       "    <tr>\n",
       "      <th>0</th>\n",
       "      <td>1</td>\n",
       "      <td>aa</td>\n",
       "      <td>AA-3859-IAH-ORD</td>\n",
       "      <td>7:10 a.m.</td>\n",
       "      <td>7:16 a.m.</td>\n",
       "      <td>9:40 a.m.</td>\n",
       "      <td>9:32 a.m.</td>\n",
       "    </tr>\n",
       "    <tr>\n",
       "      <th>1</th>\n",
       "      <td>2</td>\n",
       "      <td>aa</td>\n",
       "      <td>AA-1733-ORD-PHX</td>\n",
       "      <td>7:45 p.m.</td>\n",
       "      <td>7:58 p.m.</td>\n",
       "      <td>10:30 p.m.</td>\n",
       "      <td></td>\n",
       "    </tr>\n",
       "    <tr>\n",
       "      <th>2</th>\n",
       "      <td>3</td>\n",
       "      <td>aa</td>\n",
       "      <td>AA-1640-MIA-MCO</td>\n",
       "      <td>6:30 p.m.</td>\n",
       "      <td></td>\n",
       "      <td>7:25 p.m.</td>\n",
       "      <td></td>\n",
       "    </tr>\n",
       "    <tr>\n",
       "      <th>3</th>\n",
       "      <td>4</td>\n",
       "      <td>aa</td>\n",
       "      <td>AA-518-MIA-JFK</td>\n",
       "      <td>6:40 a.m.</td>\n",
       "      <td>6:54 a.m.</td>\n",
       "      <td>9:25 a.m.</td>\n",
       "      <td>9:28 a.m.</td>\n",
       "    </tr>\n",
       "    <tr>\n",
       "      <th>4</th>\n",
       "      <td>5</td>\n",
       "      <td>aa</td>\n",
       "      <td>AA-3756-ORD-SLC</td>\n",
       "      <td>12:15 p.m.</td>\n",
       "      <td>12:41 p.m.</td>\n",
       "      <td>2:45 p.m.</td>\n",
       "      <td>2:50 p.m.</td>\n",
       "    </tr>\n",
       "  </tbody>\n",
       "</table>\n",
       "</div>"
      ],
      "text/plain": [
       "  tuple_id src           flight sched_dep_time act_dep_time sched_arr_time  \\\n",
       "0        1  aa  AA-3859-IAH-ORD      7:10 a.m.    7:16 a.m.      9:40 a.m.   \n",
       "1        2  aa  AA-1733-ORD-PHX      7:45 p.m.    7:58 p.m.     10:30 p.m.   \n",
       "2        3  aa  AA-1640-MIA-MCO      6:30 p.m.                   7:25 p.m.   \n",
       "3        4  aa   AA-518-MIA-JFK      6:40 a.m.    6:54 a.m.      9:25 a.m.   \n",
       "4        5  aa  AA-3756-ORD-SLC     12:15 p.m.   12:41 p.m.      2:45 p.m.   \n",
       "\n",
       "  act_arr_time  \n",
       "0    9:32 a.m.  \n",
       "1               \n",
       "2               \n",
       "3    9:28 a.m.  \n",
       "4    2:50 p.m.  "
      ]
     },
     "execution_count": 3,
     "metadata": {},
     "output_type": "execute_result"
    }
   ],
   "source": [
    "dataset_dictionary = {\n",
    "    \"name\": \"flights\",\n",
    "    \"path\": \"/media/mohammad/C20E45C80E45B5E7/Projects/raha/datasets/flights/dirty.csv\",\n",
    "    \"clean_path\": \"/media/mohammad/C20E45C80E45B5E7/Projects/raha/datasets/flights/clean.csv\"\n",
    "}\n",
    "d = app_1.initialize_dataset(dataset_dictionary)\n",
    "d.dataframe.head()"
   ]
  },
  {
   "cell_type": "markdown",
   "metadata": {},
   "source": [
    "### 3. Running Error Detection Strategies\n",
    "Raha runs (all or the promising) error detector strategies on the dataset. This step could take a while because all the strategies should be run on the dataset. "
   ]
  },
  {
   "cell_type": "code",
   "execution_count": 4,
   "metadata": {},
   "outputs": [
    {
     "name": "stdout",
     "output_type": "stream",
     "text": [
      "209 strategy profiles are collected.\n"
     ]
    }
   ],
   "source": [
    "app_1.run_strategies(d)"
   ]
  },
  {
   "cell_type": "code",
   "execution_count": 5,
   "metadata": {},
   "outputs": [
    {
     "data": {
      "text/html": [
       "<div>\n",
       "<style scoped>\n",
       "    .dataframe tbody tr th:only-of-type {\n",
       "        vertical-align: middle;\n",
       "    }\n",
       "\n",
       "    .dataframe tbody tr th {\n",
       "        vertical-align: top;\n",
       "    }\n",
       "\n",
       "    .dataframe thead th {\n",
       "        text-align: right;\n",
       "    }\n",
       "</style>\n",
       "<table border=\"1\" class=\"dataframe\">\n",
       "  <thead>\n",
       "    <tr style=\"text-align: right;\">\n",
       "      <th></th>\n",
       "      <th>Name</th>\n",
       "      <th>Score</th>\n",
       "      <th>New Column</th>\n",
       "      <th>Historical Column</th>\n",
       "    </tr>\n",
       "  </thead>\n",
       "  <tbody>\n",
       "    <tr>\n",
       "      <th>0</th>\n",
       "      <td>[\"OD\", [\"histogram\", \"0.7\", \"0.7\"]]</td>\n",
       "      <td>0.920941</td>\n",
       "      <td>flights.tuple_id</td>\n",
       "      <td>hospital.phone</td>\n",
       "    </tr>\n",
       "    <tr>\n",
       "      <th>1</th>\n",
       "      <td>[\"OD\", [\"histogram\", \"0.5\", \"0.3\"]]</td>\n",
       "      <td>0.920941</td>\n",
       "      <td>flights.tuple_id</td>\n",
       "      <td>hospital.phone</td>\n",
       "    </tr>\n",
       "    <tr>\n",
       "      <th>2</th>\n",
       "      <td>[\"OD\", [\"histogram\", \"0.9\", \"0.7\"]]</td>\n",
       "      <td>0.920941</td>\n",
       "      <td>flights.tuple_id</td>\n",
       "      <td>hospital.phone</td>\n",
       "    </tr>\n",
       "    <tr>\n",
       "      <th>3</th>\n",
       "      <td>[\"OD\", [\"histogram\", \"0.1\", \"0.3\"]]</td>\n",
       "      <td>0.920941</td>\n",
       "      <td>flights.tuple_id</td>\n",
       "      <td>hospital.phone</td>\n",
       "    </tr>\n",
       "    <tr>\n",
       "      <th>4</th>\n",
       "      <td>[\"OD\", [\"histogram\", \"0.1\", \"0.7\"]]</td>\n",
       "      <td>0.920941</td>\n",
       "      <td>flights.tuple_id</td>\n",
       "      <td>hospital.phone</td>\n",
       "    </tr>\n",
       "  </tbody>\n",
       "</table>\n",
       "</div>"
      ],
      "text/plain": [
       "                                  Name     Score        New Column  \\\n",
       "0  [\"OD\", [\"histogram\", \"0.7\", \"0.7\"]]  0.920941  flights.tuple_id   \n",
       "1  [\"OD\", [\"histogram\", \"0.5\", \"0.3\"]]  0.920941  flights.tuple_id   \n",
       "2  [\"OD\", [\"histogram\", \"0.9\", \"0.7\"]]  0.920941  flights.tuple_id   \n",
       "3  [\"OD\", [\"histogram\", \"0.1\", \"0.3\"]]  0.920941  flights.tuple_id   \n",
       "4  [\"OD\", [\"histogram\", \"0.1\", \"0.7\"]]  0.920941  flights.tuple_id   \n",
       "\n",
       "  Historical Column  \n",
       "0    hospital.phone  \n",
       "1    hospital.phone  \n",
       "2    hospital.phone  \n",
       "3    hospital.phone  \n",
       "4    hospital.phone  "
      ]
     },
     "execution_count": 5,
     "metadata": {},
     "output_type": "execute_result"
    }
   ],
   "source": [
    "import pandas\n",
    "strategies_df = pandas.DataFrame(columns=[\"Name\", \"Score\", \"New Column\", \"Historical Column\"])\n",
    "for sp in d.strategy_profiles:\n",
    "    strategies_df = strategies_df.append({\"Name\": sp[\"name\"], \"Score\": sp[\"score\"], \"New Column\": sp[\"new_column\"], \"Historical Column\": sp[\"historical_column\"]}, ignore_index=True)\n",
    "\n",
    "strategies_df.head()"
   ]
  },
  {
   "cell_type": "markdown",
   "metadata": {},
   "source": [
    "### 4. Generating Features\n",
    "Raha then generates a feature vector for each data cell based on the output of error detector strategies. "
   ]
  },
  {
   "cell_type": "code",
   "execution_count": 6,
   "metadata": {},
   "outputs": [
    {
     "name": "stdout",
     "output_type": "stream",
     "text": [
      "24 Features are generated for column 0.\n",
      "19 Features are generated for column 1.\n",
      "22 Features are generated for column 2.\n",
      "12 Features are generated for column 3.\n",
      "11 Features are generated for column 4.\n",
      "12 Features are generated for column 5.\n",
      "22 Features are generated for column 6.\n"
     ]
    }
   ],
   "source": [
    "app_1.generate_features(d)"
   ]
  },
  {
   "cell_type": "markdown",
   "metadata": {},
   "source": [
    "### 5. Building Clusters\n",
    "Raha next builds a hierarchical clustering model for our clustering-based sampling approach."
   ]
  },
  {
   "cell_type": "code",
   "execution_count": 7,
   "metadata": {},
   "outputs": [
    {
     "name": "stdout",
     "output_type": "stream",
     "text": [
      "A hierarchical clustering model is built for column 0.\n",
      "A hierarchical clustering model is built for column 1.\n",
      "A hierarchical clustering model is built for column 2.\n",
      "A hierarchical clustering model is built for column 3.\n",
      "A hierarchical clustering model is built for column 4.\n",
      "A hierarchical clustering model is built for column 5.\n",
      "A hierarchical clustering model is built for column 6.\n"
     ]
    }
   ],
   "source": [
    "app_1.build_clusters(d)"
   ]
  },
  {
   "cell_type": "markdown",
   "metadata": {},
   "source": [
    "### 6. Interactive Tuple Sampling and Labeling\n",
    "Raha then iteratively samples a tuple. We should label data cells of each sampled tuple."
   ]
  },
  {
   "cell_type": "code",
   "execution_count": 8,
   "metadata": {},
   "outputs": [
    {
     "name": "stdout",
     "output_type": "stream",
     "text": [
      "Tuple 984 is sampled.\n",
      "Mark the dirty cells in the following sampled tuple.\n"
     ]
    },
    {
     "data": {
      "text/html": [
       "<div>\n",
       "<style scoped>\n",
       "    .dataframe tbody tr th:only-of-type {\n",
       "        vertical-align: middle;\n",
       "    }\n",
       "\n",
       "    .dataframe tbody tr th {\n",
       "        vertical-align: top;\n",
       "    }\n",
       "\n",
       "    .dataframe thead th {\n",
       "        text-align: right;\n",
       "    }\n",
       "</style>\n",
       "<table border=\"1\" class=\"dataframe\">\n",
       "  <thead>\n",
       "    <tr style=\"text-align: right;\">\n",
       "      <th></th>\n",
       "      <th>tuple_id</th>\n",
       "      <th>src</th>\n",
       "      <th>flight</th>\n",
       "      <th>sched_dep_time</th>\n",
       "      <th>act_dep_time</th>\n",
       "      <th>sched_arr_time</th>\n",
       "      <th>act_arr_time</th>\n",
       "    </tr>\n",
       "  </thead>\n",
       "  <tbody>\n",
       "    <tr>\n",
       "      <th>984</th>\n",
       "      <td>985</td>\n",
       "      <td>flightwise</td>\n",
       "      <td>AA-4330-CVG-ORD</td>\n",
       "      <td>3:35 p.m.</td>\n",
       "      <td>3:36 p.m.</td>\n",
       "      <td>3:50 p.m.</td>\n",
       "      <td>3:26 p.m.</td>\n",
       "    </tr>\n",
       "  </tbody>\n",
       "</table>\n",
       "</div>"
      ],
      "text/plain": [
       "    tuple_id         src           flight sched_dep_time act_dep_time  \\\n",
       "984      985  flightwise  AA-4330-CVG-ORD      3:35 p.m.    3:36 p.m.   \n",
       "\n",
       "    sched_arr_time act_arr_time  \n",
       "984      3:50 p.m.    3:26 p.m.  "
      ]
     },
     "metadata": {},
     "output_type": "display_data"
    },
    {
     "data": {
      "application/vnd.jupyter.widget-view+json": {
       "model_id": "cc2f806392aa4bf0bf1dea87dacce0e2",
       "version_major": 2,
       "version_minor": 0
      },
      "text/plain": [
       "VBox(children=(Checkbox(value=False, description='tuple_id'), Checkbox(value=False, description='src'), Checkb…"
      ]
     },
     "metadata": {},
     "output_type": "display_data"
    }
   ],
   "source": [
    "import pandas\n",
    "import IPython.display\n",
    "import ipywidgets\n",
    "\n",
    "def on_button_clicked(_):\n",
    "    for j in range(0, len(checkboxes)):\n",
    "        cell = (d.sampled_tuple, j)\n",
    "        if checkboxes[j].value == True:\n",
    "            d.labeled_cells[cell] = 1\n",
    "        else:\n",
    "            d.labeled_cells[cell] = 0\n",
    "        d.labeled_tuples[d.sampled_tuple] = 1\n",
    "\n",
    "app_1.sample_tuple(d)\n",
    "print(\"Mark the dirty cells in the following sampled tuple.\")\n",
    "sampled_tuple = pandas.DataFrame(data=[d.dataframe.iloc[d.sampled_tuple, :]], columns=d.dataframe.columns)\n",
    "IPython.display.display(sampled_tuple)          \n",
    "checkboxes = [ipywidgets.Checkbox(value=False, description=label) for label in d.dataframe.columns]\n",
    "button = ipywidgets.Button(description=\"Save the Annotation\")\n",
    "button.on_click(on_button_clicked)\n",
    "output = ipywidgets.VBox(children=checkboxes + [button])\n",
    "IPython.display.display(output)"
   ]
  },
  {
   "cell_type": "code",
   "execution_count": 12,
   "metadata": {},
   "outputs": [
    {
     "name": "stdout",
     "output_type": "stream",
     "text": [
      "3\n",
      "{(2105, 0): 1, (2105, 1): 0, (2105, 2): 0, (2105, 3): 0, (2105, 4): 0, (2105, 5): 0, (2105, 6): 1, (285, 0): 0, (285, 1): 0, (285, 2): 1, (285, 3): 0, (285, 4): 0, (285, 5): 1, (285, 6): 0, (170, 0): 0, (170, 1): 0, (170, 2): 0, (170, 3): 1, (170, 4): 1, (170, 5): 0, (170, 6): 0}\n"
     ]
    }
   ],
   "source": [
    "print(len(d.labeled_tuples))\n",
    "print(d.labeled_cells)"
   ]
  },
  {
   "cell_type": "code",
   "execution_count": 9,
   "metadata": {
    "scrolled": true
   },
   "outputs": [
    {
     "name": "stdout",
     "output_type": "stream",
     "text": [
      "Tuple 1834 is sampled.\n",
      "Tuple 1834 is labeled.\n",
      "Tuple 629 is sampled.\n",
      "Tuple 629 is labeled.\n",
      "Tuple 2069 is sampled.\n",
      "Tuple 2069 is labeled.\n",
      "Tuple 490 is sampled.\n",
      "Tuple 490 is labeled.\n",
      "Tuple 1681 is sampled.\n",
      "Tuple 1681 is labeled.\n",
      "Tuple 641 is sampled.\n",
      "Tuple 641 is labeled.\n",
      "Tuple 566 is sampled.\n",
      "Tuple 566 is labeled.\n",
      "Tuple 1085 is sampled.\n",
      "Tuple 1085 is labeled.\n",
      "Tuple 2035 is sampled.\n",
      "Tuple 2035 is labeled.\n",
      "Tuple 1557 is sampled.\n",
      "Tuple 1557 is labeled.\n",
      "Tuple 2042 is sampled.\n",
      "Tuple 2042 is labeled.\n",
      "Tuple 1571 is sampled.\n",
      "Tuple 1571 is labeled.\n",
      "Tuple 799 is sampled.\n",
      "Tuple 799 is labeled.\n",
      "Tuple 1364 is sampled.\n",
      "Tuple 1364 is labeled.\n",
      "Tuple 1601 is sampled.\n",
      "Tuple 1601 is labeled.\n",
      "Tuple 1562 is sampled.\n",
      "Tuple 1562 is labeled.\n",
      "Tuple 783 is sampled.\n",
      "Tuple 783 is labeled.\n",
      "Tuple 1357 is sampled.\n",
      "Tuple 1357 is labeled.\n",
      "Tuple 787 is sampled.\n",
      "Tuple 787 is labeled.\n",
      "Tuple 1042 is sampled.\n",
      "Tuple 1042 is labeled.\n"
     ]
    }
   ],
   "source": [
    "import pandas\n",
    "import IPython.display\n",
    "import ipywidgets\n",
    "\n",
    "while len(d.labeled_tuples) < app_1.LABELING_BUDGET:\n",
    "    app_1.sample_tuple(d)\n",
    "    if d.has_ground_truth:\n",
    "        app_1.label_with_ground_truth(d)"
   ]
  },
  {
   "cell_type": "markdown",
   "metadata": {},
   "source": [
    "# 7. Propagating User Labels\n",
    "Raha then propagates each user label through its cluster."
   ]
  },
  {
   "cell_type": "code",
   "execution_count": 13,
   "metadata": {},
   "outputs": [
    {
     "name": "stdout",
     "output_type": "stream",
     "text": [
      "The number of labeled data cells increased from 21 to 2384.\n"
     ]
    }
   ],
   "source": [
    "app_1.propagate_labels(d)"
   ]
  },
  {
   "cell_type": "markdown",
   "metadata": {},
   "source": [
    "### 8. Predicting Labels of Data Cells\n",
    "Raha then trains and applies one classifier per data column to predict the label of the rest of data cells."
   ]
  },
  {
   "cell_type": "code",
   "execution_count": 14,
   "metadata": {},
   "outputs": [
    {
     "name": "stdout",
     "output_type": "stream",
     "text": [
      "A classifier is trained and applied on column 0.\n",
      "A classifier is trained and applied on column 1.\n",
      "A classifier is trained and applied on column 2.\n",
      "A classifier is trained and applied on column 3.\n",
      "A classifier is trained and applied on column 4.\n",
      "A classifier is trained and applied on column 5.\n",
      "A classifier is trained and applied on column 6.\n"
     ]
    }
   ],
   "source": [
    "app_1.predict_labels(d)"
   ]
  },
  {
   "cell_type": "markdown",
   "metadata": {},
   "source": [
    "### 9. Storing Results\n",
    "Raha can also store the error detection results."
   ]
  },
  {
   "cell_type": "code",
   "execution_count": 15,
   "metadata": {},
   "outputs": [
    {
     "name": "stdout",
     "output_type": "stream",
     "text": [
      "The results are stored in /media/mohammad/C20E45C80E45B5E7/Projects/raha/datasets/flights/raha-baran-results-flights/error-detection/detection.dictionary.\n"
     ]
    }
   ],
   "source": [
    "app_1.store_results(d)"
   ]
  },
  {
   "cell_type": "markdown",
   "metadata": {},
   "source": [
    "### 10. Evaluating the Error Detection Task\n",
    "We can finally evaluate our error detection task."
   ]
  },
  {
   "cell_type": "code",
   "execution_count": 16,
   "metadata": {
    "scrolled": true
   },
   "outputs": [
    {
     "name": "stdout",
     "output_type": "stream",
     "text": [
      "Raha's performance on flights:\n",
      "Precision = 0.25\n",
      "Recall = 0.22\n",
      "F1 = 0.23\n"
     ]
    }
   ],
   "source": [
    "p, r, f = d.get_data_cleaning_evaluation(d.detected_cells)[:3]\n",
    "print(\"Raha's performance on {}:\\nPrecision = {:.2f}\\nRecall = {:.2f}\\nF1 = {:.2f}\".format(d.name, p, r, f))"
   ]
  },
  {
   "cell_type": "markdown",
   "metadata": {},
   "source": [
    "# Error Correction with Baran"
   ]
  },
  {
   "cell_type": "markdown",
   "metadata": {},
   "source": [
    "### 1. Instantiating the Correction Class\n",
    "We first instantiate the `Correction` class."
   ]
  },
  {
   "cell_type": "code",
   "execution_count": 20,
   "metadata": {},
   "outputs": [],
   "source": [
    "app_2 = raha.Correction()\n",
    "\n",
    "# How many tuples would you label?\n",
    "app_2.LABELING_BUDGET = 20\n",
    "app_2.VERBOSE = True\n",
    "\n",
    "# Have you pretrained the value-based models already?\n",
    "app_2.PRETRAINED_VALUE_BASED_MODELS_PATH = \"\""
   ]
  },
  {
   "cell_type": "markdown",
   "metadata": {},
   "source": [
    "### 2. Initializing the Dataset Object\n",
    "We next initialize the dataset object."
   ]
  },
  {
   "cell_type": "code",
   "execution_count": 21,
   "metadata": {},
   "outputs": [
    {
     "data": {
      "text/html": [
       "<div>\n",
       "<style scoped>\n",
       "    .dataframe tbody tr th:only-of-type {\n",
       "        vertical-align: middle;\n",
       "    }\n",
       "\n",
       "    .dataframe tbody tr th {\n",
       "        vertical-align: top;\n",
       "    }\n",
       "\n",
       "    .dataframe thead th {\n",
       "        text-align: right;\n",
       "    }\n",
       "</style>\n",
       "<table border=\"1\" class=\"dataframe\">\n",
       "  <thead>\n",
       "    <tr style=\"text-align: right;\">\n",
       "      <th></th>\n",
       "      <th>tuple_id</th>\n",
       "      <th>src</th>\n",
       "      <th>flight</th>\n",
       "      <th>sched_dep_time</th>\n",
       "      <th>act_dep_time</th>\n",
       "      <th>sched_arr_time</th>\n",
       "      <th>act_arr_time</th>\n",
       "    </tr>\n",
       "  </thead>\n",
       "  <tbody>\n",
       "    <tr>\n",
       "      <th>0</th>\n",
       "      <td>1</td>\n",
       "      <td>aa</td>\n",
       "      <td>AA-3859-IAH-ORD</td>\n",
       "      <td>7:10 a.m.</td>\n",
       "      <td>7:16 a.m.</td>\n",
       "      <td>9:40 a.m.</td>\n",
       "      <td>9:32 a.m.</td>\n",
       "    </tr>\n",
       "    <tr>\n",
       "      <th>1</th>\n",
       "      <td>2</td>\n",
       "      <td>aa</td>\n",
       "      <td>AA-1733-ORD-PHX</td>\n",
       "      <td>7:45 p.m.</td>\n",
       "      <td>7:58 p.m.</td>\n",
       "      <td>10:30 p.m.</td>\n",
       "      <td></td>\n",
       "    </tr>\n",
       "    <tr>\n",
       "      <th>2</th>\n",
       "      <td>3</td>\n",
       "      <td>aa</td>\n",
       "      <td>AA-1640-MIA-MCO</td>\n",
       "      <td>6:30 p.m.</td>\n",
       "      <td></td>\n",
       "      <td>7:25 p.m.</td>\n",
       "      <td></td>\n",
       "    </tr>\n",
       "    <tr>\n",
       "      <th>3</th>\n",
       "      <td>4</td>\n",
       "      <td>aa</td>\n",
       "      <td>AA-518-MIA-JFK</td>\n",
       "      <td>6:40 a.m.</td>\n",
       "      <td>6:54 a.m.</td>\n",
       "      <td>9:25 a.m.</td>\n",
       "      <td>9:28 a.m.</td>\n",
       "    </tr>\n",
       "    <tr>\n",
       "      <th>4</th>\n",
       "      <td>5</td>\n",
       "      <td>aa</td>\n",
       "      <td>AA-3756-ORD-SLC</td>\n",
       "      <td>12:15 p.m.</td>\n",
       "      <td>12:41 p.m.</td>\n",
       "      <td>2:45 p.m.</td>\n",
       "      <td>2:50 p.m.</td>\n",
       "    </tr>\n",
       "  </tbody>\n",
       "</table>\n",
       "</div>"
      ],
      "text/plain": [
       "  tuple_id src           flight sched_dep_time act_dep_time sched_arr_time  \\\n",
       "0        1  aa  AA-3859-IAH-ORD      7:10 a.m.    7:16 a.m.      9:40 a.m.   \n",
       "1        2  aa  AA-1733-ORD-PHX      7:45 p.m.    7:58 p.m.     10:30 p.m.   \n",
       "2        3  aa  AA-1640-MIA-MCO      6:30 p.m.                   7:25 p.m.   \n",
       "3        4  aa   AA-518-MIA-JFK      6:40 a.m.    6:54 a.m.      9:25 a.m.   \n",
       "4        5  aa  AA-3756-ORD-SLC     12:15 p.m.   12:41 p.m.      2:45 p.m.   \n",
       "\n",
       "  act_arr_time  \n",
       "0    9:32 a.m.  \n",
       "1               \n",
       "2               \n",
       "3    9:28 a.m.  \n",
       "4    2:50 p.m.  "
      ]
     },
     "execution_count": 21,
     "metadata": {},
     "output_type": "execute_result"
    }
   ],
   "source": [
    "d = app_2.initialize_dataset(d)\n",
    "d.dataframe.head()"
   ]
  },
  {
   "cell_type": "markdown",
   "metadata": {},
   "source": [
    "### 3. Initializing the Error Corrector Models\n",
    "Baran initializes the error corrector models."
   ]
  },
  {
   "cell_type": "code",
   "execution_count": 22,
   "metadata": {},
   "outputs": [
    {
     "name": "stdout",
     "output_type": "stream",
     "text": [
      "The error corrector models are initialized.\n"
     ]
    }
   ],
   "source": [
    "app_2.initialize_models(d)"
   ]
  },
  {
   "cell_type": "markdown",
   "metadata": {},
   "source": [
    "### 4. Interactive Tuple Sampling, Labeling, models updating, feature generating, and correction predicting\n",
    "Baran then iteratively samples a tuple. We should label data cells of each sampled tuple. It then udpates the models accordingly and generates a feature vector for each pair of a data error and a correction candidate. Finally, it trains and applies a classifier on each data column to predict the final correction of each data error."
   ]
  },
  {
   "cell_type": "code",
   "execution_count": null,
   "metadata": {},
   "outputs": [],
   "source": [
    "while len(d.labeled_tuples) < app_2.LABELING_BUDGET:\n",
    "    app_2.sample_tuple(d)\n",
    "    if d.has_ground_truth:\n",
    "        app_2.label_with_ground_truth(d)\n",
    "    else:\n",
    "       import pandas\n",
    "       import IPython.display\n",
    "       print(\"Label the dirty cells in the following sampled tuple.\")\n",
    "       sampled_tuple = pandas.DataFrame(data=[d.dataframe.iloc[d.sampled_tuple, :]], columns=d.dataframe.columns)\n",
    "       IPython.display.display(sampled_tuple)\n",
    "       for j in range(d.dataframe.shape[1]):\n",
    "           cell = (d.sampled_tuple, j)\n",
    "           value = d.dataframe.iloc[cell]\n",
    "           d.labeled_cells[cell] = input(\"What is the correction for value '{}'?\\n\".format(value))\n",
    "       d.labeled_tuples[d.sampled_tuple] = 1\n",
    "    app_2.update_models(d)\n",
    "    app_2.generate_features(d)\n",
    "    app_2.predict_corrections(d)"
   ]
  },
  {
   "cell_type": "code",
   "execution_count": 29,
   "metadata": {},
   "outputs": [
    {
     "name": "stdout",
     "output_type": "stream",
     "text": [
      "Tuple 2134 is sampled.\n",
      "Fix the dirty cells in the following sampled tuple.\n"
     ]
    },
    {
     "data": {
      "text/html": [
       "<div>\n",
       "<style scoped>\n",
       "    .dataframe tbody tr th:only-of-type {\n",
       "        vertical-align: middle;\n",
       "    }\n",
       "\n",
       "    .dataframe tbody tr th {\n",
       "        vertical-align: top;\n",
       "    }\n",
       "\n",
       "    .dataframe thead th {\n",
       "        text-align: right;\n",
       "    }\n",
       "</style>\n",
       "<table border=\"1\" class=\"dataframe\">\n",
       "  <thead>\n",
       "    <tr style=\"text-align: right;\">\n",
       "      <th></th>\n",
       "      <th>tuple_id</th>\n",
       "      <th>src</th>\n",
       "      <th>flight</th>\n",
       "      <th>sched_dep_time</th>\n",
       "      <th>act_dep_time</th>\n",
       "      <th>sched_arr_time</th>\n",
       "      <th>act_arr_time</th>\n",
       "    </tr>\n",
       "  </thead>\n",
       "  <tbody>\n",
       "    <tr>\n",
       "      <th>2134</th>\n",
       "      <td>2135</td>\n",
       "      <td>businesstravellogue</td>\n",
       "      <td>AA-789-ORD-DEN</td>\n",
       "      <td>1:05 p.m.</td>\n",
       "      <td>1:19 p.m.</td>\n",
       "      <td>2:35 p.m.</td>\n",
       "      <td>3:13 p.m.</td>\n",
       "    </tr>\n",
       "  </tbody>\n",
       "</table>\n",
       "</div>"
      ],
      "text/plain": [
       "     tuple_id                  src          flight sched_dep_time  \\\n",
       "2134     2135  businesstravellogue  AA-789-ORD-DEN      1:05 p.m.   \n",
       "\n",
       "     act_dep_time sched_arr_time act_arr_time  \n",
       "2134    1:19 p.m.      2:35 p.m.    3:13 p.m.  "
      ]
     },
     "metadata": {},
     "output_type": "display_data"
    },
    {
     "data": {
      "application/vnd.jupyter.widget-view+json": {
       "model_id": "a69a63149a21494eac18a7b1c0d21941",
       "version_major": 2,
       "version_minor": 0
      },
      "text/plain": [
       "VBox(children=(Text(value='2135'), Text(value='businesstravellogue'), Text(value='AA-789-ORD-DEN'), Text(value…"
      ]
     },
     "metadata": {},
     "output_type": "display_data"
    }
   ],
   "source": [
    "import pandas\n",
    "import IPython.display\n",
    "import ipywidgets\n",
    "\n",
    "def on_button_clicked(_):\n",
    "    for j in range(0, len(texts)):\n",
    "        cell = (d.sampled_tuple, j)\n",
    "        if d.dataframe.iloc[cell] != texts[j].value:\n",
    "            d.labeled_cells[cell] = texts[j].value\n",
    "        d.labeled_tuples[d.sampled_tuple] = 1\n",
    "\n",
    "app_2.sample_tuple(d)\n",
    "print(\"Fix the dirty cells in the following sampled tuple.\")\n",
    "sampled_tuple = pandas.DataFrame(data=[d.dataframe.iloc[d.sampled_tuple, :]], columns=d.dataframe.columns)\n",
    "IPython.display.display(sampled_tuple)  \n",
    "texts = [ipywidgets.Text(value=d.dataframe.iloc[d.sampled_tuple, j]) for j in range(d.dataframe.shape[1])]\n",
    "button = ipywidgets.Button(description=\"Save the Annotation\")\n",
    "button.on_click(on_button_clicked)\n",
    "output = ipywidgets.VBox(children=texts + [button])\n",
    "IPython.display.display(output)"
   ]
  },
  {
   "cell_type": "code",
   "execution_count": 30,
   "metadata": {},
   "outputs": [
    {
     "name": "stdout",
     "output_type": "stream",
     "text": [
      "3\n",
      "{(988, 0): '98900', (1842, 0): '184322222222222', (2134, 6): '3:13 p.m.666666666666666'}\n"
     ]
    }
   ],
   "source": [
    "print(len(d.labeled_tuples))\n",
    "print(d.labeled_cells)"
   ]
  },
  {
   "cell_type": "markdown",
   "metadata": {},
   "source": [
    "### 5. Storing Results\n",
    "Baran can also store the error detection results."
   ]
  },
  {
   "cell_type": "code",
   "execution_count": null,
   "metadata": {},
   "outputs": [],
   "source": [
    "app_2.store_results(d)"
   ]
  },
  {
   "cell_type": "markdown",
   "metadata": {},
   "source": [
    "### 6. Evaluating the Error Correction Task\n",
    "We can finally evaluate our error correction task."
   ]
  },
  {
   "cell_type": "code",
   "execution_count": null,
   "metadata": {},
   "outputs": [],
   "source": [
    "p, r, f = d.get_data_cleaning_evaluation(d.corrected_cells)[-3:]\n",
    "print(\"Baran's performance on {}:\\nPrecision = {:.2f}\\nRecall = {:.2f}\\nF1 = {:.2f}\".format(d.name, p, r, f))"
   ]
  },
  {
   "cell_type": "code",
   "execution_count": null,
   "metadata": {},
   "outputs": [],
   "source": []
  }
 ],
 "metadata": {
  "kernelspec": {
   "display_name": "Python 3",
   "language": "python",
   "name": "python3"
  },
  "language_info": {
   "codemirror_mode": {
    "name": "ipython",
    "version": 3
   },
   "file_extension": ".py",
   "mimetype": "text/x-python",
   "name": "python",
   "nbconvert_exporter": "python",
   "pygments_lexer": "ipython3",
   "version": "3.6.9"
  }
 },
 "nbformat": 4,
 "nbformat_minor": 2
}
