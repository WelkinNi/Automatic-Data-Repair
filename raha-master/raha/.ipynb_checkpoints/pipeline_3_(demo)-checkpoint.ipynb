{
 "cells": [
  {
   "cell_type": "markdown",
   "metadata": {},
   "source": [
    "# End-to-End Data Cleaning Pipeline with Raha and Baran (Demo)\n",
    "We build an end-to-end data cleaning pipeline with our configuration-free error detection and correction systems, Raha and Baran."
   ]
  },
  {
   "cell_type": "code",
   "execution_count": 71,
   "metadata": {},
   "outputs": [],
   "source": [
    "import bz2\n",
    "import json\n",
    "import pickle\n",
    "\n",
    "import numpy\n",
    "import pandas\n",
    "import ipywidgets\n",
    "import IPython.display\n",
    "import sklearn.decomposition\n",
    "import matplotlib.pyplot as plt\n",
    "\n",
    "import raha"
   ]
  },
  {
   "cell_type": "markdown",
   "metadata": {},
   "source": [
    "## Error Detection with Raha"
   ]
  },
  {
   "cell_type": "markdown",
   "metadata": {},
   "source": [
    "### 1. Instantiating the Detection Class\n",
    "We first instantiate the `Detection` class."
   ]
  },
  {
   "cell_type": "code",
   "execution_count": 2,
   "metadata": {},
   "outputs": [],
   "source": [
    "app_1 = raha.Detection()\n",
    "\n",
    "# How many tuples would you label?\n",
    "app_1.LABELING_BUDGET = 20\n",
    "\n",
    "# Would you like to see the logs?\n",
    "app_1.VERBOSE = True\n",
    "\n",
    "# Do you want to filter out ineffective error detector startegies?\n",
    "app_1.STRATEGY_FILTERING = True\n",
    "app_1.HISTORICAL_DATASETS = [\n",
    "    {\n",
    "        \"name\": \"hospital\",\n",
    "        \"path\": \"/media/mohammad/C20E45C80E45B5E7/Projects/raha/datasets/hospital/dirty.csv\",\n",
    "        \"clean_path\": \"/media/mohammad/C20E45C80E45B5E7/Projects/raha/datasets/hospital/clean.csv\"\n",
    "    },\n",
    "    {\n",
    "        \"name\": \"beers\",\n",
    "        \"path\": \"/media/mohammad/C20E45C80E45B5E7/Projects/raha/datasets/beers/dirty.csv\",\n",
    "        \"clean_path\": \"/media/mohammad/C20E45C80E45B5E7/Projects/raha/datasets/beers/clean.csv\"\n",
    "    }\n",
    "]"
   ]
  },
  {
   "cell_type": "markdown",
   "metadata": {},
   "source": [
    "### 2. Instantiating the Dataset\n",
    "We next load and instantiate the dataset object."
   ]
  },
  {
   "cell_type": "code",
   "execution_count": 3,
   "metadata": {},
   "outputs": [
    {
     "data": {
      "text/html": [
       "<div>\n",
       "<style scoped>\n",
       "    .dataframe tbody tr th:only-of-type {\n",
       "        vertical-align: middle;\n",
       "    }\n",
       "\n",
       "    .dataframe tbody tr th {\n",
       "        vertical-align: top;\n",
       "    }\n",
       "\n",
       "    .dataframe thead th {\n",
       "        text-align: right;\n",
       "    }\n",
       "</style>\n",
       "<table border=\"1\" class=\"dataframe\">\n",
       "  <thead>\n",
       "    <tr style=\"text-align: right;\">\n",
       "      <th></th>\n",
       "      <th>tuple_id</th>\n",
       "      <th>src</th>\n",
       "      <th>flight</th>\n",
       "      <th>sched_dep_time</th>\n",
       "      <th>act_dep_time</th>\n",
       "      <th>sched_arr_time</th>\n",
       "      <th>act_arr_time</th>\n",
       "    </tr>\n",
       "  </thead>\n",
       "  <tbody>\n",
       "    <tr>\n",
       "      <th>0</th>\n",
       "      <td>1</td>\n",
       "      <td>aa</td>\n",
       "      <td>AA-3859-IAH-ORD</td>\n",
       "      <td>7:10 a.m.</td>\n",
       "      <td>7:16 a.m.</td>\n",
       "      <td>9:40 a.m.</td>\n",
       "      <td>9:32 a.m.</td>\n",
       "    </tr>\n",
       "    <tr>\n",
       "      <th>1</th>\n",
       "      <td>2</td>\n",
       "      <td>aa</td>\n",
       "      <td>AA-1733-ORD-PHX</td>\n",
       "      <td>7:45 p.m.</td>\n",
       "      <td>7:58 p.m.</td>\n",
       "      <td>10:30 p.m.</td>\n",
       "      <td></td>\n",
       "    </tr>\n",
       "    <tr>\n",
       "      <th>2</th>\n",
       "      <td>3</td>\n",
       "      <td>aa</td>\n",
       "      <td>AA-1640-MIA-MCO</td>\n",
       "      <td>6:30 p.m.</td>\n",
       "      <td></td>\n",
       "      <td>7:25 p.m.</td>\n",
       "      <td></td>\n",
       "    </tr>\n",
       "    <tr>\n",
       "      <th>3</th>\n",
       "      <td>4</td>\n",
       "      <td>aa</td>\n",
       "      <td>AA-518-MIA-JFK</td>\n",
       "      <td>6:40 a.m.</td>\n",
       "      <td>6:54 a.m.</td>\n",
       "      <td>9:25 a.m.</td>\n",
       "      <td>9:28 a.m.</td>\n",
       "    </tr>\n",
       "    <tr>\n",
       "      <th>4</th>\n",
       "      <td>5</td>\n",
       "      <td>aa</td>\n",
       "      <td>AA-3756-ORD-SLC</td>\n",
       "      <td>12:15 p.m.</td>\n",
       "      <td>12:41 p.m.</td>\n",
       "      <td>2:45 p.m.</td>\n",
       "      <td>2:50 p.m.</td>\n",
       "    </tr>\n",
       "  </tbody>\n",
       "</table>\n",
       "</div>"
      ],
      "text/plain": [
       "  tuple_id src           flight sched_dep_time act_dep_time sched_arr_time  \\\n",
       "0        1  aa  AA-3859-IAH-ORD      7:10 a.m.    7:16 a.m.      9:40 a.m.   \n",
       "1        2  aa  AA-1733-ORD-PHX      7:45 p.m.    7:58 p.m.     10:30 p.m.   \n",
       "2        3  aa  AA-1640-MIA-MCO      6:30 p.m.                   7:25 p.m.   \n",
       "3        4  aa   AA-518-MIA-JFK      6:40 a.m.    6:54 a.m.      9:25 a.m.   \n",
       "4        5  aa  AA-3756-ORD-SLC     12:15 p.m.   12:41 p.m.      2:45 p.m.   \n",
       "\n",
       "  act_arr_time  \n",
       "0    9:32 a.m.  \n",
       "1               \n",
       "2               \n",
       "3    9:28 a.m.  \n",
       "4    2:50 p.m.  "
      ]
     },
     "execution_count": 3,
     "metadata": {},
     "output_type": "execute_result"
    }
   ],
   "source": [
    "dataset_dictionary = {\n",
    "    \"name\": \"flights\",\n",
    "    \"path\": \"/media/mohammad/C20E45C80E45B5E7/Projects/raha/datasets/flights/dirty.csv\",\n",
    "    \"clean_path\": \"/media/mohammad/C20E45C80E45B5E7/Projects/raha/datasets/flights/clean.csv\"\n",
    "}\n",
    "d = app_1.initialize_dataset(dataset_dictionary)\n",
    "d.dataframe.head()"
   ]
  },
  {
   "cell_type": "markdown",
   "metadata": {},
   "source": [
    "### 3. Running Error Detection Strategies\n",
    "Raha runs (all or the promising) error detection strategies on the dataset. This step could take a while because all the strategies should be run on the dataset. "
   ]
  },
  {
   "cell_type": "code",
   "execution_count": 4,
   "metadata": {},
   "outputs": [
    {
     "name": "stdout",
     "output_type": "stream",
     "text": [
      "209 strategy profiles are collected.\n"
     ]
    },
    {
     "data": {
      "text/html": [
       "<div>\n",
       "<style scoped>\n",
       "    .dataframe tbody tr th:only-of-type {\n",
       "        vertical-align: middle;\n",
       "    }\n",
       "\n",
       "    .dataframe tbody tr th {\n",
       "        vertical-align: top;\n",
       "    }\n",
       "\n",
       "    .dataframe thead th {\n",
       "        text-align: right;\n",
       "    }\n",
       "</style>\n",
       "<table border=\"1\" class=\"dataframe\">\n",
       "  <thead>\n",
       "    <tr style=\"text-align: right;\">\n",
       "      <th></th>\n",
       "      <th>Name</th>\n",
       "      <th>Score</th>\n",
       "      <th>New Column</th>\n",
       "      <th>Historical Column</th>\n",
       "    </tr>\n",
       "  </thead>\n",
       "  <tbody>\n",
       "    <tr>\n",
       "      <th>0</th>\n",
       "      <td>[\"Outlier Detection\", [\"histogram\", \"0.7\", \"0....</td>\n",
       "      <td>0.920941</td>\n",
       "      <td>flights.tuple_id</td>\n",
       "      <td>hospital.phone</td>\n",
       "    </tr>\n",
       "    <tr>\n",
       "      <th>1</th>\n",
       "      <td>[\"Outlier Detection\", [\"histogram\", \"0.5\", \"0....</td>\n",
       "      <td>0.920941</td>\n",
       "      <td>flights.tuple_id</td>\n",
       "      <td>hospital.phone</td>\n",
       "    </tr>\n",
       "    <tr>\n",
       "      <th>2</th>\n",
       "      <td>[\"Outlier Detection\", [\"histogram\", \"0.9\", \"0....</td>\n",
       "      <td>0.920941</td>\n",
       "      <td>flights.tuple_id</td>\n",
       "      <td>hospital.phone</td>\n",
       "    </tr>\n",
       "    <tr>\n",
       "      <th>3</th>\n",
       "      <td>[\"Outlier Detection\", [\"histogram\", \"0.1\", \"0....</td>\n",
       "      <td>0.920941</td>\n",
       "      <td>flights.tuple_id</td>\n",
       "      <td>hospital.phone</td>\n",
       "    </tr>\n",
       "    <tr>\n",
       "      <th>4</th>\n",
       "      <td>[\"Outlier Detection\", [\"histogram\", \"0.1\", \"0....</td>\n",
       "      <td>0.920941</td>\n",
       "      <td>flights.tuple_id</td>\n",
       "      <td>hospital.phone</td>\n",
       "    </tr>\n",
       "  </tbody>\n",
       "</table>\n",
       "</div>"
      ],
      "text/plain": [
       "                                                Name     Score  \\\n",
       "0  [\"Outlier Detection\", [\"histogram\", \"0.7\", \"0....  0.920941   \n",
       "1  [\"Outlier Detection\", [\"histogram\", \"0.5\", \"0....  0.920941   \n",
       "2  [\"Outlier Detection\", [\"histogram\", \"0.9\", \"0....  0.920941   \n",
       "3  [\"Outlier Detection\", [\"histogram\", \"0.1\", \"0....  0.920941   \n",
       "4  [\"Outlier Detection\", [\"histogram\", \"0.1\", \"0....  0.920941   \n",
       "\n",
       "         New Column Historical Column  \n",
       "0  flights.tuple_id    hospital.phone  \n",
       "1  flights.tuple_id    hospital.phone  \n",
       "2  flights.tuple_id    hospital.phone  \n",
       "3  flights.tuple_id    hospital.phone  \n",
       "4  flights.tuple_id    hospital.phone  "
      ]
     },
     "execution_count": 4,
     "metadata": {},
     "output_type": "execute_result"
    }
   ],
   "source": [
    "app_1.run_strategies(d)\n",
    "\n",
    "strategies_df = pandas.DataFrame(columns=[\"Name\", \"Score\", \"New Column\", \"Historical Column\"])\n",
    "for sp in d.strategy_profiles:\n",
    "    strategies_df = strategies_df.append({\"Name\": sp[\"name\"].replace(\"OD\", \"Outlier Detection\").replace(\n",
    "        \"PVD\", \"Pattern Violation Detection\").replace(\"RVD\", \"Rule Violation Detection\").replace(\n",
    "        \"KBVD\", \"Knowledge Base Violation Detection\"), \"Score\": sp[\"score\"], \"New Column\": sp[\"new_column\"], \n",
    "                                          \"Historical Column\": sp[\"historical_column\"]}, ignore_index=True)\n",
    "\n",
    "strategies_df.head()"
   ]
  },
  {
   "cell_type": "markdown",
   "metadata": {},
   "source": [
    "### 4. Generating Features\n",
    "Raha then generates a feature vector for each data cell based on the output of error detection strategies. "
   ]
  },
  {
   "cell_type": "code",
   "execution_count": 5,
   "metadata": {},
   "outputs": [
    {
     "name": "stdout",
     "output_type": "stream",
     "text": [
      "24 Features are generated for column 0.\n",
      "19 Features are generated for column 1.\n",
      "22 Features are generated for column 2.\n",
      "12 Features are generated for column 3.\n",
      "11 Features are generated for column 4.\n",
      "12 Features are generated for column 5.\n",
      "22 Features are generated for column 6.\n"
     ]
    }
   ],
   "source": [
    "app_1.generate_features(d)"
   ]
  },
  {
   "cell_type": "markdown",
   "metadata": {},
   "source": [
    "### 5. Building Clusters\n",
    "Raha next builds a hierarchical clustering model for our clustering-based sampling approach."
   ]
  },
  {
   "cell_type": "code",
   "execution_count": 6,
   "metadata": {},
   "outputs": [
    {
     "name": "stdout",
     "output_type": "stream",
     "text": [
      "A hierarchical clustering model is built for column 0.\n",
      "A hierarchical clustering model is built for column 1.\n",
      "A hierarchical clustering model is built for column 2.\n",
      "A hierarchical clustering model is built for column 3.\n",
      "A hierarchical clustering model is built for column 4.\n",
      "A hierarchical clustering model is built for column 5.\n",
      "A hierarchical clustering model is built for column 6.\n"
     ]
    }
   ],
   "source": [
    "app_1.build_clusters(d)"
   ]
  },
  {
   "cell_type": "markdown",
   "metadata": {},
   "source": [
    "### 6. Interactive Tuple Sampling and Labeling\n",
    "Raha then iteratively samples a tuple. We should label data cells of each sampled tuple."
   ]
  },
  {
   "cell_type": "code",
   "execution_count": 8,
   "metadata": {},
   "outputs": [
    {
     "name": "stdout",
     "output_type": "stream",
     "text": [
      "Tuple 876 is sampled.\n",
      "Fix the dirty cells in the following sampled tuple.\n"
     ]
    },
    {
     "data": {
      "text/html": [
       "<div>\n",
       "<style scoped>\n",
       "    .dataframe tbody tr th:only-of-type {\n",
       "        vertical-align: middle;\n",
       "    }\n",
       "\n",
       "    .dataframe tbody tr th {\n",
       "        vertical-align: top;\n",
       "    }\n",
       "\n",
       "    .dataframe thead th {\n",
       "        text-align: right;\n",
       "    }\n",
       "</style>\n",
       "<table border=\"1\" class=\"dataframe\">\n",
       "  <thead>\n",
       "    <tr style=\"text-align: right;\">\n",
       "      <th></th>\n",
       "      <th>tuple_id</th>\n",
       "      <th>src</th>\n",
       "      <th>flight</th>\n",
       "      <th>sched_dep_time</th>\n",
       "      <th>act_dep_time</th>\n",
       "      <th>sched_arr_time</th>\n",
       "      <th>act_arr_time</th>\n",
       "    </tr>\n",
       "  </thead>\n",
       "  <tbody>\n",
       "    <tr>\n",
       "      <th>876</th>\n",
       "      <td>877</td>\n",
       "      <td>flights</td>\n",
       "      <td>AA-431-MIA-SFO</td>\n",
       "      <td>8:35 a.m.</td>\n",
       "      <td>8:51 a.m.</td>\n",
       "      <td>11:50 a.m.</td>\n",
       "      <td>11:44 a.m.</td>\n",
       "    </tr>\n",
       "  </tbody>\n",
       "</table>\n",
       "</div>"
      ],
      "text/plain": [
       "    tuple_id      src          flight sched_dep_time act_dep_time  \\\n",
       "876      877  flights  AA-431-MIA-SFO      8:35 a.m.    8:51 a.m.   \n",
       "\n",
       "    sched_arr_time act_arr_time  \n",
       "876     11:50 a.m.   11:44 a.m.  "
      ]
     },
     "metadata": {},
     "output_type": "display_data"
    },
    {
     "data": {
      "application/vnd.jupyter.widget-view+json": {
       "model_id": "744cd418770244e9807d7f6a0e887c5b",
       "version_major": 2,
       "version_minor": 0
      },
      "text/plain": [
       "VBox(children=(Text(value='877'), Text(value='flights'), Text(value='AA-431-MIA-SFO'), Text(value='8:35 a.m.')…"
      ]
     },
     "metadata": {},
     "output_type": "display_data"
    }
   ],
   "source": [
    "def on_button_clicked(_):\n",
    "    for j in range(0, len(texts)):\n",
    "        cell = (d.sampled_tuple, j)\n",
    "        error_label = 0\n",
    "        correction = texts[j].value\n",
    "        if d.dataframe.iloc[cell] != correction:\n",
    "            error_label = 1\n",
    "        d.labeled_cells[cell] = [error_label, correction]\n",
    "    d.labeled_tuples[d.sampled_tuple] = 1\n",
    "\n",
    "app_1.sample_tuple(d)\n",
    "print(\"Fix the dirty cells in the following sampled tuple.\")\n",
    "sampled_tuple = pandas.DataFrame(data=[d.dataframe.iloc[d.sampled_tuple, :]], columns=d.dataframe.columns)\n",
    "IPython.display.display(sampled_tuple)  \n",
    "texts = [ipywidgets.Text(value=d.dataframe.iloc[d.sampled_tuple, j]) for j in range(d.dataframe.shape[1])]\n",
    "button = ipywidgets.Button(description=\"Save the Annotation\")\n",
    "button.on_click(on_button_clicked)\n",
    "output = ipywidgets.VBox(children=texts + [button])\n",
    "IPython.display.display(output)"
   ]
  },
  {
   "cell_type": "code",
   "execution_count": 9,
   "metadata": {},
   "outputs": [],
   "source": [
    "PRETRAINED_MODELS_PATH = \"/media/mohammad/C20E45C80E45B5E7/Projects/raha/supplementaries/models/pretrained_value_based_models.dictionary\"\n",
    "pretrained_models = pickle.load(bz2.BZ2File(PRETRAINED_MODELS_PATH, \"rb\"))"
   ]
  },
  {
   "cell_type": "code",
   "execution_count": 10,
   "metadata": {},
   "outputs": [
    {
     "data": {
      "application/vnd.jupyter.widget-view+json": {
       "model_id": "45ca12a6033141559c458536095ef9f0",
       "version_major": 2,
       "version_minor": 0
      },
      "text/plain": [
       "interactive(children=(Text(value='', description='old_value'), Text(value='', description='new_value'), Output…"
      ]
     },
     "metadata": {},
     "output_type": "display_data"
    }
   ],
   "source": [
    "def callback(old_value, new_value):\n",
    "    corrections = raha.Correction()._value_based_corrector(pretrained_models, {\"old_value\": old_value, \"new_value\": new_value})\n",
    "    for m, model in enumerate(corrections):\n",
    "        print(\"Model {}: P({} -> {}) = {:.2f}\".format(m, old_value, new_value, model[new_value] if new_value in model else 0))\n",
    "\n",
    "interactive_text = ipywidgets.interactive(callback, old_value=\"\", new_value=\"\")\n",
    "interactive_text"
   ]
  },
  {
   "cell_type": "code",
   "execution_count": 11,
   "metadata": {
    "scrolled": true
   },
   "outputs": [
    {
     "name": "stdout",
     "output_type": "stream",
     "text": [
      "Tuple 84 is sampled.\n",
      "Tuple 84 is labeled.\n",
      "Tuple 1864 is sampled.\n",
      "Tuple 1864 is labeled.\n",
      "Tuple 736 is sampled.\n",
      "Tuple 736 is labeled.\n",
      "Tuple 6 is sampled.\n",
      "Tuple 6 is labeled.\n",
      "Tuple 772 is sampled.\n",
      "Tuple 772 is labeled.\n",
      "Tuple 962 is sampled.\n",
      "Tuple 962 is labeled.\n",
      "Tuple 1147 is sampled.\n",
      "Tuple 1147 is labeled.\n",
      "Tuple 985 is sampled.\n",
      "Tuple 985 is labeled.\n",
      "Tuple 1090 is sampled.\n",
      "Tuple 1090 is labeled.\n",
      "Tuple 517 is sampled.\n",
      "Tuple 517 is labeled.\n",
      "Tuple 1349 is sampled.\n",
      "Tuple 1349 is labeled.\n",
      "Tuple 499 is sampled.\n",
      "Tuple 499 is labeled.\n",
      "Tuple 1689 is sampled.\n",
      "Tuple 1689 is labeled.\n",
      "Tuple 414 is sampled.\n",
      "Tuple 414 is labeled.\n",
      "Tuple 2006 is sampled.\n",
      "Tuple 2006 is labeled.\n",
      "Tuple 2032 is sampled.\n",
      "Tuple 2032 is labeled.\n",
      "Tuple 316 is sampled.\n",
      "Tuple 316 is labeled.\n",
      "Tuple 2243 is sampled.\n",
      "Tuple 2243 is labeled.\n",
      "Tuple 1035 is sampled.\n",
      "Tuple 1035 is labeled.\n"
     ]
    }
   ],
   "source": [
    "while len(d.labeled_tuples) < app_1.LABELING_BUDGET:\n",
    "    app_1.sample_tuple(d)\n",
    "    if d.has_ground_truth:\n",
    "        app_1.label_with_ground_truth(d)"
   ]
  },
  {
   "cell_type": "markdown",
   "metadata": {},
   "source": [
    "### 7. Propagating User Labels\n",
    "Raha then propagates each user label through its cluster."
   ]
  },
  {
   "cell_type": "code",
   "execution_count": 12,
   "metadata": {},
   "outputs": [
    {
     "name": "stdout",
     "output_type": "stream",
     "text": [
      "The number of labeled data cells increased from 140 to 2786.\n"
     ]
    }
   ],
   "source": [
    "app_1.propagate_labels(d)"
   ]
  },
  {
   "cell_type": "markdown",
   "metadata": {},
   "source": [
    "### 8. Predicting Labels of Data Cells\n",
    "Raha then trains and applies one classifier per data column to predict the label of the rest of data cells."
   ]
  },
  {
   "cell_type": "code",
   "execution_count": 13,
   "metadata": {},
   "outputs": [
    {
     "name": "stdout",
     "output_type": "stream",
     "text": [
      "A classifier is trained and applied on column 0.\n",
      "A classifier is trained and applied on column 1.\n",
      "A classifier is trained and applied on column 2.\n",
      "A classifier is trained and applied on column 3.\n",
      "A classifier is trained and applied on column 4.\n",
      "A classifier is trained and applied on column 5.\n",
      "A classifier is trained and applied on column 6.\n"
     ]
    }
   ],
   "source": [
    "app_1.predict_labels(d)"
   ]
  },
  {
   "cell_type": "code",
   "execution_count": 42,
   "metadata": {},
   "outputs": [
    {
     "data": {
      "image/png": "[encoded data removed]",
      "text/plain": [
       "<Figure size 432x288 with 1 Axes>"
      ]
     },
     "metadata": {},
     "output_type": "display_data"
    }
   ],
   "source": [
    "errors_per_attribute = d.dataframe.shape[1] * [0]\n",
    "for cell in d.detected_cells:\n",
    "    errors_per_attribute[cell[1]] += 1\n",
    "\n",
    "plt.style.use(\"ggplot\")\n",
    "fig = plt.figure()\n",
    "ax = plt.axes()\n",
    "x_pos = range(len(d.dataframe.columns))\n",
    "ax.bar(x_pos, errors_per_attribute)\n",
    "ax.set(ylabel=\"Data Errors per Attribute\", title=\"Error Detection Progress\");\n",
    "ax.set_xticks(numpy.arange(len(x_pos)))\n",
    "_ = ax.set_xticklabels(d.dataframe.columns, rotation=22)"
   ]
  },
  {
   "cell_type": "code",
   "execution_count": 74,
   "metadata": {},
   "outputs": [
    {
     "data": {
      "application/vnd.jupyter.widget-view+json": {
       "model_id": "6daab93cf2764cfcba0e9b699da7999a",
       "version_major": 2,
       "version_minor": 0
      },
      "text/plain": [
       "interactive(children=(Dropdown(description='x', options=('tuple_id', 'src', 'flight', 'sched_dep_time', 'act_d…"
      ]
     },
     "metadata": {},
     "output_type": "display_data"
    },
    {
     "data": {
      "text/plain": [
       "<function __main__.callback(x)>"
      ]
     },
     "execution_count": 74,
     "metadata": {},
     "output_type": "execute_result"
    }
   ],
   "source": [
    "def callback(x):\n",
    "    column = d.dataframe.columns.get_loc(x)\n",
    "    features = d.column_features[column]\n",
    "    features = (features - features.min())/(features.max() - features.min())\n",
    "    pca = sklearn.decomposition.PCA(n_components=2)\n",
    "    transformed = pandas.DataFrame(pca.fit_transform(features))\n",
    "    clean_indexes = [True if (i, column) not in d.detected_cells else False for i in range(d.dataframe.shape[0])]\n",
    "    clean_data_cells = transformed[clean_indexes]\n",
    "    dirty_data_cells = transformed[[not b for b in clean_indexes]]\n",
    "\n",
    "    plt.style.use(\"ggplot\")\n",
    "    fig = plt.figure()\n",
    "    ax = plt.axes()\n",
    "    plt.scatter(clean_data_cells[0], clean_data_cells[1], label=\"Clean Data Cells\", c=\"green\")\n",
    "    plt.scatter(dirty_data_cells[0], dirty_data_cells[1], label=\"Dirty Data Cells\", c=\"red\")\n",
    "    plt.legend()\n",
    "    plt.show()\n",
    "\n",
    "_ = ipywidgets.interact(callback, x=d.dataframe.columns)"
   ]
  },
  {
   "cell_type": "code",
   "execution_count": 76,
   "metadata": {},
   "outputs": [
    {
     "data": {
      "application/vnd.jupyter.widget-view+json": {
       "model_id": "08780d9156f7460d93088a5ed4c1cdb9",
       "version_major": 2,
       "version_minor": 0
      },
      "text/plain": [
       "interactive(children=(Text(value='0', description='row'), Text(value='0', description='column'), Output()), _d…"
      ]
     },
     "metadata": {},
     "output_type": "display_data"
    }
   ],
   "source": [
    "def callback(row, column):\n",
    "    for strategy_profile in d.strategy_profiles:\n",
    "        strategy_name = json.loads(strategy_profile[\"name\"])\n",
    "        for cell in strategy_profile[\"output\"]:\n",
    "            if cell == (int(row), int(column)):\n",
    "                print(strategy_name)\n",
    "\n",
    "interactive_text = ipywidgets.interactive(callback, row=\"0\", column=\"0\")\n",
    "interactive_text"
   ]
  },
  {
   "cell_type": "markdown",
   "metadata": {},
   "source": [
    "### 9. Storing Results\n",
    "Raha can also store the error detection results."
   ]
  },
  {
   "cell_type": "code",
   "execution_count": 26,
   "metadata": {},
   "outputs": [
    {
     "name": "stdout",
     "output_type": "stream",
     "text": [
      "The results are stored in /media/mohammad/C20E45C80E45B5E7/Projects/raha/datasets/flights/raha-baran-results-flights/error-detection/detection.dataset.\n"
     ]
    }
   ],
   "source": [
    "app_1.store_results(d)"
   ]
  },
  {
   "cell_type": "markdown",
   "metadata": {},
   "source": [
    "### 10. Evaluating the Error Detection Task\n",
    "We can finally evaluate our error detection task."
   ]
  },
  {
   "cell_type": "code",
   "execution_count": 27,
   "metadata": {
    "scrolled": true
   },
   "outputs": [
    {
     "name": "stdout",
     "output_type": "stream",
     "text": [
      "Raha's performance on flights:\n",
      "Precision = 0.75\n",
      "Recall = 0.87\n",
      "F1 = 0.81\n"
     ]
    }
   ],
   "source": [
    "p, r, f = d.get_data_cleaning_evaluation(d.detected_cells)[:3]\n",
    "print(\"Raha's performance on {}:\\nPrecision = {:.2f}\\nRecall = {:.2f}\\nF1 = {:.2f}\".format(d.name, p, r, f))"
   ]
  },
  {
   "cell_type": "markdown",
   "metadata": {},
   "source": [
    "# Error Correction with Baran"
   ]
  },
  {
   "cell_type": "markdown",
   "metadata": {},
   "source": [
    "### 1. Instantiating the Correction Class\n",
    "We first instantiate the `Correction` class."
   ]
  },
  {
   "cell_type": "code",
   "execution_count": 28,
   "metadata": {},
   "outputs": [],
   "source": [
    "app_2 = raha.Correction()\n",
    "\n",
    "# How many tuples would you label?\n",
    "app_2.LABELING_BUDGET = 20\n",
    "\n",
    "# Would you like to see the logs?\n",
    "app_2.VERBOSE = True"
   ]
  },
  {
   "cell_type": "markdown",
   "metadata": {},
   "source": [
    "### 2. Initializing the Dataset Object\n",
    "We next initialize the dataset object."
   ]
  },
  {
   "cell_type": "code",
   "execution_count": 29,
   "metadata": {},
   "outputs": [
    {
     "data": {
      "text/html": [
       "<div>\n",
       "<style scoped>\n",
       "    .dataframe tbody tr th:only-of-type {\n",
       "        vertical-align: middle;\n",
       "    }\n",
       "\n",
       "    .dataframe tbody tr th {\n",
       "        vertical-align: top;\n",
       "    }\n",
       "\n",
       "    .dataframe thead th {\n",
       "        text-align: right;\n",
       "    }\n",
       "</style>\n",
       "<table border=\"1\" class=\"dataframe\">\n",
       "  <thead>\n",
       "    <tr style=\"text-align: right;\">\n",
       "      <th></th>\n",
       "      <th>tuple_id</th>\n",
       "      <th>src</th>\n",
       "      <th>flight</th>\n",
       "      <th>sched_dep_time</th>\n",
       "      <th>act_dep_time</th>\n",
       "      <th>sched_arr_time</th>\n",
       "      <th>act_arr_time</th>\n",
       "    </tr>\n",
       "  </thead>\n",
       "  <tbody>\n",
       "    <tr>\n",
       "      <th>0</th>\n",
       "      <td>1</td>\n",
       "      <td>aa</td>\n",
       "      <td>AA-3859-IAH-ORD</td>\n",
       "      <td>7:10 a.m.</td>\n",
       "      <td>7:16 a.m.</td>\n",
       "      <td>9:40 a.m.</td>\n",
       "      <td>9:32 a.m.</td>\n",
       "    </tr>\n",
       "    <tr>\n",
       "      <th>1</th>\n",
       "      <td>2</td>\n",
       "      <td>aa</td>\n",
       "      <td>AA-1733-ORD-PHX</td>\n",
       "      <td>7:45 p.m.</td>\n",
       "      <td>7:58 p.m.</td>\n",
       "      <td>10:30 p.m.</td>\n",
       "      <td></td>\n",
       "    </tr>\n",
       "    <tr>\n",
       "      <th>2</th>\n",
       "      <td>3</td>\n",
       "      <td>aa</td>\n",
       "      <td>AA-1640-MIA-MCO</td>\n",
       "      <td>6:30 p.m.</td>\n",
       "      <td></td>\n",
       "      <td>7:25 p.m.</td>\n",
       "      <td></td>\n",
       "    </tr>\n",
       "    <tr>\n",
       "      <th>3</th>\n",
       "      <td>4</td>\n",
       "      <td>aa</td>\n",
       "      <td>AA-518-MIA-JFK</td>\n",
       "      <td>6:40 a.m.</td>\n",
       "      <td>6:54 a.m.</td>\n",
       "      <td>9:25 a.m.</td>\n",
       "      <td>9:28 a.m.</td>\n",
       "    </tr>\n",
       "    <tr>\n",
       "      <th>4</th>\n",
       "      <td>5</td>\n",
       "      <td>aa</td>\n",
       "      <td>AA-3756-ORD-SLC</td>\n",
       "      <td>12:15 p.m.</td>\n",
       "      <td>12:41 p.m.</td>\n",
       "      <td>2:45 p.m.</td>\n",
       "      <td>2:50 p.m.</td>\n",
       "    </tr>\n",
       "  </tbody>\n",
       "</table>\n",
       "</div>"
      ],
      "text/plain": [
       "  tuple_id src           flight sched_dep_time act_dep_time sched_arr_time  \\\n",
       "0        1  aa  AA-3859-IAH-ORD      7:10 a.m.    7:16 a.m.      9:40 a.m.   \n",
       "1        2  aa  AA-1733-ORD-PHX      7:45 p.m.    7:58 p.m.     10:30 p.m.   \n",
       "2        3  aa  AA-1640-MIA-MCO      6:30 p.m.                   7:25 p.m.   \n",
       "3        4  aa   AA-518-MIA-JFK      6:40 a.m.    6:54 a.m.      9:25 a.m.   \n",
       "4        5  aa  AA-3756-ORD-SLC     12:15 p.m.   12:41 p.m.      2:45 p.m.   \n",
       "\n",
       "  act_arr_time  \n",
       "0    9:32 a.m.  \n",
       "1               \n",
       "2               \n",
       "3    9:28 a.m.  \n",
       "4    2:50 p.m.  "
      ]
     },
     "execution_count": 29,
     "metadata": {},
     "output_type": "execute_result"
    }
   ],
   "source": [
    "d = app_2.initialize_dataset(d)\n",
    "d.dataframe.head()"
   ]
  },
  {
   "cell_type": "markdown",
   "metadata": {},
   "source": [
    "### 3. Initializing the Error Corrector Models\n",
    "Baran initializes the error corrector models."
   ]
  },
  {
   "cell_type": "code",
   "execution_count": 30,
   "metadata": {},
   "outputs": [
    {
     "name": "stdout",
     "output_type": "stream",
     "text": [
      "The error corrector models are initialized.\n"
     ]
    }
   ],
   "source": [
    "app_2.initialize_models(d)"
   ]
  },
  {
   "cell_type": "markdown",
   "metadata": {},
   "source": [
    "### 4. Interactive Tuple Sampling, Labeling, Model Updating, Feature Generation, and Correction Prediction\n",
    "Baran then iteratively samples a tuple. We should label data cells of each sampled tuple. It then udpates the models accordingly and generates a feature vector for each pair of a data error and a correction candidate. Finally, it trains and applies a classifier to each data column to predict the final correction of each data error. Since we already labeled tuples for Raha, we use the same labeled tuples and do not label new tuples here."
   ]
  },
  {
   "cell_type": "code",
   "execution_count": 31,
   "metadata": {},
   "outputs": [
    {
     "name": "stdout",
     "output_type": "stream",
     "text": [
      "The error corrector models are updated with new labeled tuple 26.\n",
      "526405 pairs of (a data error, a potential correction) are featurized.\n",
      "49% (2808 / 5678) of data errors are corrected.\n",
      "The error corrector models are updated with new labeled tuple 84.\n",
      "534478 pairs of (a data error, a potential correction) are featurized.\n",
      "50% (2817 / 5678) of data errors are corrected.\n",
      "The error corrector models are updated with new labeled tuple 1864.\n",
      "534478 pairs of (a data error, a potential correction) are featurized.\n",
      "50% (2817 / 5678) of data errors are corrected.\n",
      "The error corrector models are updated with new labeled tuple 736.\n",
      "543905 pairs of (a data error, a potential correction) are featurized.\n",
      "52% (2927 / 5678) of data errors are corrected.\n",
      "The error corrector models are updated with new labeled tuple 6.\n",
      "543905 pairs of (a data error, a potential correction) are featurized.\n",
      "52% (2927 / 5678) of data errors are corrected.\n",
      "The error corrector models are updated with new labeled tuple 772.\n",
      "549534 pairs of (a data error, a potential correction) are featurized.\n",
      "55% (3118 / 5678) of data errors are corrected.\n",
      "The error corrector models are updated with new labeled tuple 962.\n",
      "553766 pairs of (a data error, a potential correction) are featurized.\n",
      "59% (3326 / 5678) of data errors are corrected.\n",
      "The error corrector models are updated with new labeled tuple 1147.\n",
      "559805 pairs of (a data error, a potential correction) are featurized.\n",
      "59% (3338 / 5678) of data errors are corrected.\n",
      "The error corrector models are updated with new labeled tuple 985.\n",
      "569544 pairs of (a data error, a potential correction) are featurized.\n",
      "60% (3390 / 5678) of data errors are corrected.\n",
      "The error corrector models are updated with new labeled tuple 1090.\n",
      "572614 pairs of (a data error, a potential correction) are featurized.\n",
      "60% (3390 / 5678) of data errors are corrected.\n",
      "The error corrector models are updated with new labeled tuple 517.\n",
      "578352 pairs of (a data error, a potential correction) are featurized.\n",
      "60% (3403 / 5678) of data errors are corrected.\n",
      "The error corrector models are updated with new labeled tuple 1349.\n",
      "583929 pairs of (a data error, a potential correction) are featurized.\n",
      "61% (3476 / 5678) of data errors are corrected.\n",
      "The error corrector models are updated with new labeled tuple 499.\n",
      "583929 pairs of (a data error, a potential correction) are featurized.\n",
      "61% (3491 / 5678) of data errors are corrected.\n",
      "The error corrector models are updated with new labeled tuple 1689.\n",
      "590582 pairs of (a data error, a potential correction) are featurized.\n",
      "62% (3530 / 5678) of data errors are corrected.\n",
      "The error corrector models are updated with new labeled tuple 414.\n",
      "599981 pairs of (a data error, a potential correction) are featurized.\n",
      "62% (3536 / 5678) of data errors are corrected.\n",
      "The error corrector models are updated with new labeled tuple 2006.\n",
      "602606 pairs of (a data error, a potential correction) are featurized.\n",
      "63% (3559 / 5678) of data errors are corrected.\n",
      "The error corrector models are updated with new labeled tuple 2032.\n",
      "606874 pairs of (a data error, a potential correction) are featurized.\n",
      "63% (3570 / 5678) of data errors are corrected.\n",
      "The error corrector models are updated with new labeled tuple 316.\n",
      "609186 pairs of (a data error, a potential correction) are featurized.\n",
      "64% (3609 / 5678) of data errors are corrected.\n",
      "The error corrector models are updated with new labeled tuple 2243.\n",
      "612573 pairs of (a data error, a potential correction) are featurized.\n",
      "64% (3635 / 5678) of data errors are corrected.\n",
      "The error corrector models are updated with new labeled tuple 1035.\n",
      "615925 pairs of (a data error, a potential correction) are featurized.\n",
      "64% (3635 / 5678) of data errors are corrected.\n"
     ]
    }
   ],
   "source": [
    "# while len(d.labeled_tuples) < app_2.LABELING_BUDGET:\n",
    "#     app_2.sample_tuple(d)\n",
    "#     if d.has_ground_truth:\n",
    "#         app_2.label_with_ground_truth(d)\n",
    "#     else:\n",
    "#         print(\"Label the dirty cells in the following sampled tuple.\")\n",
    "#         sampled_tuple = pandas.DataFrame(data=[d.dataframe.iloc[d.sampled_tuple, :]], columns=d.dataframe.columns)\n",
    "#         IPython.display.display(sampled_tuple)\n",
    "#         for j in range(d.dataframe.shape[1]):\n",
    "#             cell = (d.sampled_tuple, j)\n",
    "#             value = d.dataframe.iloc[cell]\n",
    "#             correction = input(\"What is the correction for value '{}'? Type in the same value if it is not erronous.\\n\".format(value))\n",
    "#             user_label = 1 if value != correction else 0\n",
    "#             d.labeled_cells[cell] = [user_label, correction]\n",
    "#         d.labeled_tuples[d.sampled_tuple] = 1\n",
    "#     app_2.update_models(d)\n",
    "#     app_2.generate_features(d)\n",
    "#     app_2.predict_corrections(d)\n",
    "\n",
    "corrections_per_labels = [0]\n",
    "for si in d.labeled_tuples:\n",
    "    d.sampled_tuple = si\n",
    "    app_2.update_models(d)\n",
    "    app_2.generate_features(d)\n",
    "    app_2.predict_corrections(d)\n",
    "    corrections_per_labels.append(len(d.corrected_cells))"
   ]
  },
  {
   "cell_type": "code",
   "execution_count": 35,
   "metadata": {},
   "outputs": [
    {
     "data": {
      "image/png": "[encoded data removed]",
      "text/plain": [
       "<Figure size 432x288 with 1 Axes>"
      ]
     },
     "metadata": {},
     "output_type": "display_data"
    }
   ],
   "source": [
    "plt.style.use(\"ggplot\")\n",
    "fig = plt.figure()\n",
    "ax = plt.axes()\n",
    "ax.plot(range(0, len(d.labeled_tuples) + 1), corrections_per_labels)\n",
    "ax.set(xlim=(0, len(d.labeled_tuples) + 1), xticks = range(0, len(d.labeled_tuples) + 1, 2), \n",
    "       xlabel=\"Labeled Tuples\", ylabel=\"Corrected Data Errors\", title=\"Error Correction Progress\");"
   ]
  },
  {
   "cell_type": "markdown",
   "metadata": {},
   "source": [
    "### 5. Storing Results\n",
    "Baran can also store the error correction results."
   ]
  },
  {
   "cell_type": "code",
   "execution_count": 36,
   "metadata": {},
   "outputs": [
    {
     "name": "stdout",
     "output_type": "stream",
     "text": [
      "The results are stored in /media/mohammad/C20E45C80E45B5E7/Projects/raha/datasets/flights/raha-baran-results-flights/error-correction/correction.dataset.\n"
     ]
    }
   ],
   "source": [
    "app_2.store_results(d)"
   ]
  },
  {
   "cell_type": "markdown",
   "metadata": {},
   "source": [
    "### 6. Evaluating the Error Correction Task\n",
    "We can finally evaluate our error correction task."
   ]
  },
  {
   "cell_type": "code",
   "execution_count": 37,
   "metadata": {},
   "outputs": [
    {
     "name": "stdout",
     "output_type": "stream",
     "text": [
      "Baran's performance on flights:\n",
      "Precision = 0.65\n",
      "Recall = 0.48\n",
      "F1 = 0.55\n"
     ]
    }
   ],
   "source": [
    "p, r, f = d.get_data_cleaning_evaluation(d.corrected_cells)[-3:]\n",
    "print(\"Baran's performance on {}:\\nPrecision = {:.2f}\\nRecall = {:.2f}\\nF1 = {:.2f}\".format(d.name, p, r, f))"
   ]
  },
  {
   "cell_type": "code",
   "execution_count": null,
   "metadata": {},
   "outputs": [],
   "source": []
  }
 ],
 "metadata": {
  "kernelspec": {
   "display_name": "Python 3",
   "language": "python",
   "name": "python3"
  },
  "language_info": {
   "codemirror_mode": {
    "name": "ipython",
    "version": 3
   },
   "file_extension": ".py",
   "mimetype": "text/x-python",
   "name": "python",
   "nbconvert_exporter": "python",
   "pygments_lexer": "ipython3",
   "version": "3.6.9"
  }
 },
 "nbformat": 4,
 "nbformat_minor": 2
}
