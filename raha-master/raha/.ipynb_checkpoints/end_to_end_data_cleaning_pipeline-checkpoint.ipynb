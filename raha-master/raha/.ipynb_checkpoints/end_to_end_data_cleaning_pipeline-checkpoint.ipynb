{
 "cells": [
  {
   "cell_type": "markdown",
   "metadata": {},
   "source": [
    "# End-to-End Data Cleaning Pipeline with Raha and Baran\n",
    "We build an end-to-end data cleaning pipeline with our configuration-free data error detection and correction systems, Raha and Baran."
   ]
  },
  {
   "cell_type": "markdown",
   "metadata": {},
   "source": [
    "## Error Detection with Raha"
   ]
  },
  {
   "cell_type": "markdown",
   "metadata": {},
   "source": [
    "### 1. Instantiating the Detection Class\n",
    "We first load and the `raha` module and instantiate the `Detection` class."
   ]
  },
  {
   "cell_type": "code",
   "execution_count": 1,
   "metadata": {},
   "outputs": [],
   "source": [
    "import raha\n",
    "app_1 = raha.Detection()\n",
    "\n",
    "# How many tuples would you label?\n",
    "app_1.LABELING_BUDGET = 20\n",
    "\n",
    "# Do you want to filter out irrelevant error detector startegies?\n",
    "app_1.STRATEGY_FILTERING = False\n",
    "app_1.HISTORICAL_DATASETS = [\n",
    "    {\n",
    "        \"name\": \"hospital\",\n",
    "        \"path\": \"/media/mohammad/C20E45C80E45B5E7/Projects/raha/datasets/hospital/dirty.csv\",\n",
    "        \"clean_path\": \"/media/mohammad/C20E45C80E45B5E7/Projects/raha/datasets/hospital/clean.csv\"\n",
    "    },\n",
    "    {\n",
    "        \"name\": \"beers\",\n",
    "        \"path\": \"/media/mohammad/C20E45C80E45B5E7/Projects/raha/datasets/beers/dirty.csv\",\n",
    "        \"clean_path\": \"/media/mohammad/C20E45C80E45B5E7/Projects/raha/datasets/beers/clean.csv\"\n",
    "    }\n",
    "]"
   ]
  },
  {
   "cell_type": "markdown",
   "metadata": {},
   "source": [
    "### 2. Instantiating the Dataset\n",
    "We next load and instantiate the dataset object."
   ]
  },
  {
   "cell_type": "code",
   "execution_count": 2,
   "metadata": {},
   "outputs": [
    {
     "data": {
      "text/html": [
       "<div>\n",
       "<style scoped>\n",
       "    .dataframe tbody tr th:only-of-type {\n",
       "        vertical-align: middle;\n",
       "    }\n",
       "\n",
       "    .dataframe tbody tr th {\n",
       "        vertical-align: top;\n",
       "    }\n",
       "\n",
       "    .dataframe thead th {\n",
       "        text-align: right;\n",
       "    }\n",
       "</style>\n",
       "<table border=\"1\" class=\"dataframe\">\n",
       "  <thead>\n",
       "    <tr style=\"text-align: right;\">\n",
       "      <th></th>\n",
       "      <th>tuple_id</th>\n",
       "      <th>src</th>\n",
       "      <th>flight</th>\n",
       "      <th>sched_dep_time</th>\n",
       "      <th>act_dep_time</th>\n",
       "      <th>sched_arr_time</th>\n",
       "      <th>act_arr_time</th>\n",
       "    </tr>\n",
       "  </thead>\n",
       "  <tbody>\n",
       "    <tr>\n",
       "      <th>0</th>\n",
       "      <td>1</td>\n",
       "      <td>aa</td>\n",
       "      <td>AA-3859-IAH-ORD</td>\n",
       "      <td>7:10 a.m.</td>\n",
       "      <td>7:16 a.m.</td>\n",
       "      <td>9:40 a.m.</td>\n",
       "      <td>9:32 a.m.</td>\n",
       "    </tr>\n",
       "    <tr>\n",
       "      <th>1</th>\n",
       "      <td>2</td>\n",
       "      <td>aa</td>\n",
       "      <td>AA-1733-ORD-PHX</td>\n",
       "      <td>7:45 p.m.</td>\n",
       "      <td>7:58 p.m.</td>\n",
       "      <td>10:30 p.m.</td>\n",
       "      <td></td>\n",
       "    </tr>\n",
       "    <tr>\n",
       "      <th>2</th>\n",
       "      <td>3</td>\n",
       "      <td>aa</td>\n",
       "      <td>AA-1640-MIA-MCO</td>\n",
       "      <td>6:30 p.m.</td>\n",
       "      <td></td>\n",
       "      <td>7:25 p.m.</td>\n",
       "      <td></td>\n",
       "    </tr>\n",
       "    <tr>\n",
       "      <th>3</th>\n",
       "      <td>4</td>\n",
       "      <td>aa</td>\n",
       "      <td>AA-518-MIA-JFK</td>\n",
       "      <td>6:40 a.m.</td>\n",
       "      <td>6:54 a.m.</td>\n",
       "      <td>9:25 a.m.</td>\n",
       "      <td>9:28 a.m.</td>\n",
       "    </tr>\n",
       "    <tr>\n",
       "      <th>4</th>\n",
       "      <td>5</td>\n",
       "      <td>aa</td>\n",
       "      <td>AA-3756-ORD-SLC</td>\n",
       "      <td>12:15 p.m.</td>\n",
       "      <td>12:41 p.m.</td>\n",
       "      <td>2:45 p.m.</td>\n",
       "      <td>2:50 p.m.</td>\n",
       "    </tr>\n",
       "  </tbody>\n",
       "</table>\n",
       "</div>"
      ],
      "text/plain": [
       "  tuple_id src           flight sched_dep_time act_dep_time sched_arr_time  \\\n",
       "0        1  aa  AA-3859-IAH-ORD      7:10 a.m.    7:16 a.m.      9:40 a.m.   \n",
       "1        2  aa  AA-1733-ORD-PHX      7:45 p.m.    7:58 p.m.     10:30 p.m.   \n",
       "2        3  aa  AA-1640-MIA-MCO      6:30 p.m.                   7:25 p.m.   \n",
       "3        4  aa   AA-518-MIA-JFK      6:40 a.m.    6:54 a.m.      9:25 a.m.   \n",
       "4        5  aa  AA-3756-ORD-SLC     12:15 p.m.   12:41 p.m.      2:45 p.m.   \n",
       "\n",
       "  act_arr_time  \n",
       "0    9:32 a.m.  \n",
       "1               \n",
       "2               \n",
       "3    9:28 a.m.  \n",
       "4    2:50 p.m.  "
      ]
     },
     "execution_count": 2,
     "metadata": {},
     "output_type": "execute_result"
    }
   ],
   "source": [
    "dataset_dictionary = {\n",
    "    \"name\": \"flights\",\n",
    "    \"path\": \"/media/mohammad/C20E45C80E45B5E7/Projects/raha/datasets/flights/dirty.csv\",\n",
    "    \"clean_path\": \"/media/mohammad/C20E45C80E45B5E7/Projects/raha/datasets/flights/clean.csv\"\n",
    "}\n",
    "d = app_1.initialize_dataset(dataset_dictionary)\n",
    "d.dataframe.head()"
   ]
  },
  {
   "cell_type": "markdown",
   "metadata": {},
   "source": [
    "### 3. Running Error Detection Strategies\n",
    "Raha runs (all or the promising) error detector strategies on the dataset. This step could take a while because all the strategies should be run on the dataset. "
   ]
  },
  {
   "cell_type": "code",
   "execution_count": 3,
   "metadata": {},
   "outputs": [
    {
     "name": "stderr",
     "output_type": "stream",
     "text": [
      "I just load strategies' results as they have already been run on the dataset!\n"
     ]
    },
    {
     "name": "stdout",
     "output_type": "stream",
     "text": [
      "2326 strategy profiles are collected.\n"
     ]
    }
   ],
   "source": [
    "app_1.run_strategies(d)"
   ]
  },
  {
   "cell_type": "markdown",
   "metadata": {},
   "source": [
    "### 4. Generating Features\n",
    "Raha then generates a feature vector for each data cell based on the output of error detector strategies. "
   ]
  },
  {
   "cell_type": "code",
   "execution_count": 4,
   "metadata": {},
   "outputs": [
    {
     "name": "stdout",
     "output_type": "stream",
     "text": [
      "40 Features are generated for column 0.\n",
      "66 Features are generated for column 1.\n",
      "62 Features are generated for column 2.\n",
      "156 Features are generated for column 3.\n",
      "73 Features are generated for column 4.\n",
      "156 Features are generated for column 5.\n",
      "88 Features are generated for column 6.\n"
     ]
    }
   ],
   "source": [
    "app_1.generate_features(d)"
   ]
  },
  {
   "cell_type": "markdown",
   "metadata": {},
   "source": [
    "### 5. Building Clusters\n",
    "Raha next builds a hierarchical clustering model for our clustering-based sampling approach."
   ]
  },
  {
   "cell_type": "code",
   "execution_count": 5,
   "metadata": {},
   "outputs": [
    {
     "name": "stdout",
     "output_type": "stream",
     "text": [
      "A hierarchical clustering model is built for column 0.\n",
      "A hierarchical clustering model is built for column 1.\n",
      "A hierarchical clustering model is built for column 2.\n",
      "A hierarchical clustering model is built for column 3.\n",
      "A hierarchical clustering model is built for column 4.\n",
      "A hierarchical clustering model is built for column 5.\n",
      "A hierarchical clustering model is built for column 6.\n"
     ]
    }
   ],
   "source": [
    "app_1.build_clusters(d)"
   ]
  },
  {
   "cell_type": "markdown",
   "metadata": {},
   "source": [
    "### 6. Interactive Tuple Sampling and Labeling\n",
    "Raha then iteratively samples a tuple. We should label data cells of each sampled tuple."
   ]
  },
  {
   "cell_type": "code",
   "execution_count": 6,
   "metadata": {
    "scrolled": true
   },
   "outputs": [
    {
     "name": "stdout",
     "output_type": "stream",
     "text": [
      "Tuple 1538 is sampled.\n",
      "Tuple 1538 is labeled.\n",
      "Tuple 91 is sampled.\n",
      "Tuple 91 is labeled.\n",
      "Tuple 990 is sampled.\n",
      "Tuple 990 is labeled.\n",
      "Tuple 943 is sampled.\n",
      "Tuple 943 is labeled.\n",
      "Tuple 1855 is sampled.\n",
      "Tuple 1855 is labeled.\n",
      "Tuple 1403 is sampled.\n",
      "Tuple 1403 is labeled.\n",
      "Tuple 92 is sampled.\n",
      "Tuple 92 is labeled.\n",
      "Tuple 225 is sampled.\n",
      "Tuple 225 is labeled.\n",
      "Tuple 238 is sampled.\n",
      "Tuple 238 is labeled.\n",
      "Tuple 1183 is sampled.\n",
      "Tuple 1183 is labeled.\n",
      "Tuple 814 is sampled.\n",
      "Tuple 814 is labeled.\n",
      "Tuple 664 is sampled.\n",
      "Tuple 664 is labeled.\n",
      "Tuple 1025 is sampled.\n",
      "Tuple 1025 is labeled.\n",
      "Tuple 1339 is sampled.\n",
      "Tuple 1339 is labeled.\n",
      "Tuple 1267 is sampled.\n",
      "Tuple 1267 is labeled.\n",
      "Tuple 2120 is sampled.\n",
      "Tuple 2120 is labeled.\n",
      "Tuple 2227 is sampled.\n",
      "Tuple 2227 is labeled.\n",
      "Tuple 795 is sampled.\n",
      "Tuple 795 is labeled.\n",
      "Tuple 676 is sampled.\n",
      "Tuple 676 is labeled.\n",
      "Tuple 1430 is sampled.\n",
      "Tuple 1430 is labeled.\n"
     ]
    }
   ],
   "source": [
    "while len(d.labeled_tuples) < app_1.LABELING_BUDGET:\n",
    "    app_1.sample_tuple(d)\n",
    "    if d.has_ground_truth:\n",
    "        app_1.label_with_ground_truth(d)\n",
    "    else:\n",
    "        import pandas\n",
    "        import IPython.display\n",
    "        print(\"Label the dirty cells in the following sampled tuple.\")\n",
    "        sampled_tuple = pandas.DataFrame(data=[d.dataframe.iloc[d.sampled_tuple, :]], columns=d.dataframe.columns)\n",
    "        IPython.display.display(sampled_tuple)\n",
    "        for j in range(d.dataframe.shape[1]):\n",
    "            cell = (d.sampled_tuple, j)\n",
    "            value = d.dataframe.iloc[cell]\n",
    "            d.labeled_cells[cell] = int(input(\"Is the value '{}' dirty?\\nType 1 for yes.\\nType 0 for no.\\n\".format(value)))\n",
    "        d.labeled_tuples[d.sampled_tuple] = 1"
   ]
  },
  {
   "cell_type": "markdown",
   "metadata": {},
   "source": [
    "# 7. Propagating User Labels\n",
    "Raha then propagates each user label through its cluster."
   ]
  },
  {
   "cell_type": "code",
   "execution_count": 7,
   "metadata": {},
   "outputs": [
    {
     "name": "stdout",
     "output_type": "stream",
     "text": [
      "The number of labeled data cells increased from 140 to 12805.\n"
     ]
    }
   ],
   "source": [
    "app_1.propagate_labels(d)"
   ]
  },
  {
   "cell_type": "markdown",
   "metadata": {},
   "source": [
    "### 8. Predicting Labels of Data Cells\n",
    "Raha then trains and applies one classifier per data column to predict the label of the rest of data cells."
   ]
  },
  {
   "cell_type": "code",
   "execution_count": 8,
   "metadata": {},
   "outputs": [
    {
     "name": "stdout",
     "output_type": "stream",
     "text": [
      "A classifier is trained and applied on column 0.\n",
      "A classifier is trained and applied on column 1.\n",
      "A classifier is trained and applied on column 2.\n",
      "A classifier is trained and applied on column 3.\n",
      "A classifier is trained and applied on column 4.\n",
      "A classifier is trained and applied on column 5.\n",
      "A classifier is trained and applied on column 6.\n"
     ]
    }
   ],
   "source": [
    "app_1.predict_labels(d)"
   ]
  },
  {
   "cell_type": "markdown",
   "metadata": {},
   "source": [
    "### 9. Storing Results\n",
    "Raha can also store the error detection results."
   ]
  },
  {
   "cell_type": "code",
   "execution_count": 9,
   "metadata": {},
   "outputs": [
    {
     "name": "stdout",
     "output_type": "stream",
     "text": [
      "The results are stored in /media/mohammad/C20E45C80E45B5E7/Projects/raha/datasets/flights/raha-results-flights/error-detection/detection.dictionary.\n"
     ]
    }
   ],
   "source": [
    "app_1.store_results(d)"
   ]
  },
  {
   "cell_type": "markdown",
   "metadata": {},
   "source": [
    "### 10. Evaluating the Error Detection Task\n",
    "We can finally evaluate our error detection task."
   ]
  },
  {
   "cell_type": "code",
   "execution_count": 10,
   "metadata": {
    "scrolled": true
   },
   "outputs": [
    {
     "name": "stdout",
     "output_type": "stream",
     "text": [
      "Raha's performance on flights:\n",
      "Precision = 0.84\n",
      "Recall = 0.89\n",
      "F1 = 0.86\n"
     ]
    }
   ],
   "source": [
    "p, r, f = d.get_data_cleaning_evaluation(d.detected_cells)[:3]\n",
    "print(\"Raha's performance on {}:\\nPrecision = {:.2f}\\nRecall = {:.2f}\\nF1 = {:.2f}\".format(d.name, p, r, f))"
   ]
  },
  {
   "cell_type": "markdown",
   "metadata": {},
   "source": [
    "# Error Correction with Baran"
   ]
  },
  {
   "cell_type": "markdown",
   "metadata": {},
   "source": [
    "### 1. Instantiating the Correction Class\n",
    "We first instantiate the `Correction` class."
   ]
  },
  {
   "cell_type": "code",
   "execution_count": 11,
   "metadata": {},
   "outputs": [],
   "source": [
    "app_2 = raha.Correction()\n",
    "\n",
    "# How many tuples would you label?\n",
    "app_2.LABELING_BUDGET = 20\n",
    "\n",
    "# Have you pretrained the value-based models already?\n",
    "app_2.PRETRAINED_VALUE_BASED_MODELS_PATH = \"\""
   ]
  },
  {
   "cell_type": "markdown",
   "metadata": {},
   "source": [
    "### 2. Initializing the Dataset Object\n",
    "We next initialize the dataset object."
   ]
  },
  {
   "cell_type": "code",
   "execution_count": 12,
   "metadata": {},
   "outputs": [
    {
     "data": {
      "text/html": [
       "<div>\n",
       "<style scoped>\n",
       "    .dataframe tbody tr th:only-of-type {\n",
       "        vertical-align: middle;\n",
       "    }\n",
       "\n",
       "    .dataframe tbody tr th {\n",
       "        vertical-align: top;\n",
       "    }\n",
       "\n",
       "    .dataframe thead th {\n",
       "        text-align: right;\n",
       "    }\n",
       "</style>\n",
       "<table border=\"1\" class=\"dataframe\">\n",
       "  <thead>\n",
       "    <tr style=\"text-align: right;\">\n",
       "      <th></th>\n",
       "      <th>tuple_id</th>\n",
       "      <th>src</th>\n",
       "      <th>flight</th>\n",
       "      <th>sched_dep_time</th>\n",
       "      <th>act_dep_time</th>\n",
       "      <th>sched_arr_time</th>\n",
       "      <th>act_arr_time</th>\n",
       "    </tr>\n",
       "  </thead>\n",
       "  <tbody>\n",
       "    <tr>\n",
       "      <th>0</th>\n",
       "      <td>1</td>\n",
       "      <td>aa</td>\n",
       "      <td>AA-3859-IAH-ORD</td>\n",
       "      <td>7:10 a.m.</td>\n",
       "      <td>7:16 a.m.</td>\n",
       "      <td>9:40 a.m.</td>\n",
       "      <td>9:32 a.m.</td>\n",
       "    </tr>\n",
       "    <tr>\n",
       "      <th>1</th>\n",
       "      <td>2</td>\n",
       "      <td>aa</td>\n",
       "      <td>AA-1733-ORD-PHX</td>\n",
       "      <td>7:45 p.m.</td>\n",
       "      <td>7:58 p.m.</td>\n",
       "      <td>10:30 p.m.</td>\n",
       "      <td></td>\n",
       "    </tr>\n",
       "    <tr>\n",
       "      <th>2</th>\n",
       "      <td>3</td>\n",
       "      <td>aa</td>\n",
       "      <td>AA-1640-MIA-MCO</td>\n",
       "      <td>6:30 p.m.</td>\n",
       "      <td></td>\n",
       "      <td>7:25 p.m.</td>\n",
       "      <td></td>\n",
       "    </tr>\n",
       "    <tr>\n",
       "      <th>3</th>\n",
       "      <td>4</td>\n",
       "      <td>aa</td>\n",
       "      <td>AA-518-MIA-JFK</td>\n",
       "      <td>6:40 a.m.</td>\n",
       "      <td>6:54 a.m.</td>\n",
       "      <td>9:25 a.m.</td>\n",
       "      <td>9:28 a.m.</td>\n",
       "    </tr>\n",
       "    <tr>\n",
       "      <th>4</th>\n",
       "      <td>5</td>\n",
       "      <td>aa</td>\n",
       "      <td>AA-3756-ORD-SLC</td>\n",
       "      <td>12:15 p.m.</td>\n",
       "      <td>12:41 p.m.</td>\n",
       "      <td>2:45 p.m.</td>\n",
       "      <td>2:50 p.m.</td>\n",
       "    </tr>\n",
       "  </tbody>\n",
       "</table>\n",
       "</div>"
      ],
      "text/plain": [
       "  tuple_id src           flight sched_dep_time act_dep_time sched_arr_time  \\\n",
       "0        1  aa  AA-3859-IAH-ORD      7:10 a.m.    7:16 a.m.      9:40 a.m.   \n",
       "1        2  aa  AA-1733-ORD-PHX      7:45 p.m.    7:58 p.m.     10:30 p.m.   \n",
       "2        3  aa  AA-1640-MIA-MCO      6:30 p.m.                   7:25 p.m.   \n",
       "3        4  aa   AA-518-MIA-JFK      6:40 a.m.    6:54 a.m.      9:25 a.m.   \n",
       "4        5  aa  AA-3756-ORD-SLC     12:15 p.m.   12:41 p.m.      2:45 p.m.   \n",
       "\n",
       "  act_arr_time  \n",
       "0    9:32 a.m.  \n",
       "1               \n",
       "2               \n",
       "3    9:28 a.m.  \n",
       "4    2:50 p.m.  "
      ]
     },
     "execution_count": 12,
     "metadata": {},
     "output_type": "execute_result"
    }
   ],
   "source": [
    "d = app_2.initialize_dataset(d)\n",
    "d.dataframe.head()"
   ]
  },
  {
   "cell_type": "markdown",
   "metadata": {},
   "source": [
    "### 3. Initializing the Error Corrector Models\n",
    "Baran initializes the error corrector models."
   ]
  },
  {
   "cell_type": "code",
   "execution_count": 13,
   "metadata": {},
   "outputs": [
    {
     "name": "stdout",
     "output_type": "stream",
     "text": [
      "The error corrector models are initialized.\n"
     ]
    }
   ],
   "source": [
    "app_2.initialize_models(d)"
   ]
  },
  {
   "cell_type": "markdown",
   "metadata": {},
   "source": [
    "### 4. Interactive Tuple Sampling, Labeling, models updating, feature generating, and correction predicting\n",
    "Baran then iteratively samples a tuple. We should label data cells of each sampled tuple. It then udpates the models accordingly and generates a feature vector for each pair of a data error and a correction candidate. Finally, it trains and applies a classifier on each data column to predict the final correction of each data error."
   ]
  },
  {
   "cell_type": "code",
   "execution_count": 14,
   "metadata": {},
   "outputs": [
    {
     "name": "stdout",
     "output_type": "stream",
     "text": [
      "Tuple 95 is sampled.\n",
      "Tuple 95 is labeled.\n",
      "The error corrector models are updated with new labeled tuple 95.\n",
      "448080 pairs of (a data error, a potential correction) are featurized.\n",
      "51% (2654 / 5213) of data errors are corrected.\n",
      "Tuple 1481 is sampled.\n",
      "Tuple 1481 is labeled.\n",
      "The error corrector models are updated with new labeled tuple 1481.\n",
      "451920 pairs of (a data error, a potential correction) are featurized.\n",
      "88% (4603 / 5213) of data errors are corrected.\n",
      "Tuple 220 is sampled.\n",
      "Tuple 220 is labeled.\n",
      "The error corrector models are updated with new labeled tuple 220.\n",
      "457693 pairs of (a data error, a potential correction) are featurized.\n",
      "90% (4676 / 5213) of data errors are corrected.\n",
      "Tuple 1213 is sampled.\n",
      "Tuple 1213 is labeled.\n",
      "The error corrector models are updated with new labeled tuple 1213.\n",
      "463876 pairs of (a data error, a potential correction) are featurized.\n",
      "90% (4678 / 5213) of data errors are corrected.\n",
      "Tuple 1389 is sampled.\n",
      "Tuple 1389 is labeled.\n",
      "The error corrector models are updated with new labeled tuple 1389.\n",
      "468483 pairs of (a data error, a potential correction) are featurized.\n",
      "90% (4680 / 5213) of data errors are corrected.\n",
      "Tuple 1132 is sampled.\n",
      "Tuple 1132 is labeled.\n",
      "The error corrector models are updated with new labeled tuple 1132.\n",
      "473486 pairs of (a data error, a potential correction) are featurized.\n",
      "92% (4793 / 5213) of data errors are corrected.\n",
      "Tuple 297 is sampled.\n",
      "Tuple 297 is labeled.\n",
      "The error corrector models are updated with new labeled tuple 297.\n",
      "479273 pairs of (a data error, a potential correction) are featurized.\n",
      "92% (4822 / 5213) of data errors are corrected.\n",
      "Tuple 672 is sampled.\n",
      "Tuple 672 is labeled.\n",
      "The error corrector models are updated with new labeled tuple 672.\n",
      "483894 pairs of (a data error, a potential correction) are featurized.\n",
      "93% (4868 / 5213) of data errors are corrected.\n",
      "Tuple 190 is sampled.\n",
      "Tuple 190 is labeled.\n",
      "The error corrector models are updated with new labeled tuple 190.\n",
      "498480 pairs of (a data error, a potential correction) are featurized.\n",
      "93% (4875 / 5214) of data errors are corrected.\n",
      "Tuple 804 is sampled.\n",
      "Tuple 804 is labeled.\n",
      "The error corrector models are updated with new labeled tuple 804.\n",
      "503517 pairs of (a data error, a potential correction) are featurized.\n",
      "94% (4877 / 5214) of data errors are corrected.\n",
      "Tuple 317 is sampled.\n",
      "Tuple 317 is labeled.\n",
      "The error corrector models are updated with new labeled tuple 317.\n",
      "509700 pairs of (a data error, a potential correction) are featurized.\n",
      "94% (4878 / 5214) of data errors are corrected.\n",
      "Tuple 1327 is sampled.\n",
      "Tuple 1327 is labeled.\n",
      "The error corrector models are updated with new labeled tuple 1327.\n",
      "515711 pairs of (a data error, a potential correction) are featurized.\n",
      "94% (4880 / 5215) of data errors are corrected.\n",
      "Tuple 913 is sampled.\n",
      "Tuple 913 is labeled.\n",
      "The error corrector models are updated with new labeled tuple 913.\n",
      "515711 pairs of (a data error, a potential correction) are featurized.\n",
      "94% (4900 / 5215) of data errors are corrected.\n",
      "Tuple 313 is sampled.\n",
      "Tuple 313 is labeled.\n",
      "The error corrector models are updated with new labeled tuple 313.\n",
      "520340 pairs of (a data error, a potential correction) are featurized.\n",
      "94% (4908 / 5215) of data errors are corrected.\n",
      "Tuple 447 is sampled.\n",
      "Tuple 447 is labeled.\n",
      "The error corrector models are updated with new labeled tuple 447.\n",
      "526113 pairs of (a data error, a potential correction) are featurized.\n",
      "94% (4926 / 5215) of data errors are corrected.\n",
      "Tuple 956 is sampled.\n",
      "Tuple 956 is labeled.\n",
      "The error corrector models are updated with new labeled tuple 956.\n",
      "532296 pairs of (a data error, a potential correction) are featurized.\n",
      "94% (4927 / 5215) of data errors are corrected.\n",
      "Tuple 259 is sampled.\n",
      "Tuple 259 is labeled.\n",
      "The error corrector models are updated with new labeled tuple 259.\n",
      "538479 pairs of (a data error, a potential correction) are featurized.\n",
      "95% (4932 / 5215) of data errors are corrected.\n",
      "Tuple 1261 is sampled.\n",
      "Tuple 1261 is labeled.\n",
      "The error corrector models are updated with new labeled tuple 1261.\n",
      "543878 pairs of (a data error, a potential correction) are featurized.\n",
      "95% (4936 / 5215) of data errors are corrected.\n",
      "Tuple 264 is sampled.\n",
      "Tuple 264 is labeled.\n",
      "The error corrector models are updated with new labeled tuple 264.\n",
      "550061 pairs of (a data error, a potential correction) are featurized.\n",
      "95% (4937 / 5215) of data errors are corrected.\n",
      "Tuple 262 is sampled.\n",
      "Tuple 262 is labeled.\n",
      "The error corrector models are updated with new labeled tuple 262.\n",
      "555452 pairs of (a data error, a potential correction) are featurized.\n",
      "95% (4946 / 5215) of data errors are corrected.\n"
     ]
    }
   ],
   "source": [
    "while len(d.labeled_tuples) < app_2.LABELING_BUDGET:\n",
    "    app_2.sample_tuple(d)\n",
    "    if d.has_ground_truth:\n",
    "        app_2.label_with_ground_truth(d)\n",
    "    else:\n",
    "       import pandas\n",
    "       import IPython.display\n",
    "       print(\"Label the dirty cells in the following sampled tuple.\")\n",
    "       sampled_tuple = pandas.DataFrame(data=[d.dataframe.iloc[d.sampled_tuple, :]], columns=d.dataframe.columns)\n",
    "       IPython.display.display(sampled_tuple)\n",
    "       for j in range(d.dataframe.shape[1]):\n",
    "           cell = (d.sampled_tuple, j)\n",
    "           value = d.dataframe.iloc[cell]\n",
    "           d.labeled_cells[cell] = input(\"What is the correction for value '{}'?\\n\".format(value))\n",
    "       d.labeled_tuples[d.sampled_tuple] = 1\n",
    "    app_2.update_models(d)\n",
    "    app_2.generate_features(d)\n",
    "    app_2.predict_corrections(d)"
   ]
  },
  {
   "cell_type": "markdown",
   "metadata": {},
   "source": [
    "### 5. Storing Results\n",
    "Baran can also store the error detection results."
   ]
  },
  {
   "cell_type": "code",
   "execution_count": 15,
   "metadata": {},
   "outputs": [
    {
     "name": "stdout",
     "output_type": "stream",
     "text": [
      "The results are stored in /media/mohammad/C20E45C80E45B5E7/Projects/raha/datasets/flights/baran-results-flights/error-correction/correction.dictionary.\n"
     ]
    }
   ],
   "source": [
    "app_2.store_results(d)"
   ]
  },
  {
   "cell_type": "markdown",
   "metadata": {},
   "source": [
    "### 6. Evaluating the Error Correction Task\n",
    "We can finally evaluate our error correction task."
   ]
  },
  {
   "cell_type": "code",
   "execution_count": 16,
   "metadata": {},
   "outputs": [
    {
     "name": "stdout",
     "output_type": "stream",
     "text": [
      "Baran's performance on flights:\n",
      "Precision = 0.62\n",
      "Recall = 0.62\n",
      "F1 = 0.62\n"
     ]
    }
   ],
   "source": [
    "p, r, f = d.get_data_cleaning_evaluation(d.corrected_cells)[-3:]\n",
    "print(\"Baran's performance on {}:\\nPrecision = {:.2f}\\nRecall = {:.2f}\\nF1 = {:.2f}\".format(d.name, p, r, f))"
   ]
  },
  {
   "cell_type": "code",
   "execution_count": null,
   "metadata": {},
   "outputs": [],
   "source": []
  }
 ],
 "metadata": {
  "kernelspec": {
   "display_name": "Python 3",
   "language": "python",
   "name": "python3"
  },
  "language_info": {
   "codemirror_mode": {
    "name": "ipython",
    "version": 3
   },
   "file_extension": ".py",
   "mimetype": "text/x-python",
   "name": "python",
   "nbconvert_exporter": "python",
   "pygments_lexer": "ipython3",
   "version": "3.6.9"
  }
 },
 "nbformat": 4,
 "nbformat_minor": 2
}
